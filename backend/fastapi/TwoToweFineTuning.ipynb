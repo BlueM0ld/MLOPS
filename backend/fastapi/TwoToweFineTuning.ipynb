{
 "cells": [
  {
   "cell_type": "markdown",
   "metadata": {},
   "source": [
    "# Two Towers Model finetuning \n",
    "\n",
    "- Finetuning\n",
    "- based on word2vec embeddings from genism\n",
    "\n"
   ]
  },
  {
   "cell_type": "code",
   "execution_count": 1,
   "metadata": {},
   "outputs": [],
   "source": [
    "# Import Libraries\n",
    "import os\n",
    "import sys\n",
    "\n",
    "import pandas as pd\n",
    "\n",
    "import torch\n",
    "import torch.nn as nn\n",
    "import torch.optim as optim\n",
    "import torch.nn.functional as F\n",
    "from torch.utils.data import DataLoader\n",
    "\n",
    "import faiss\n",
    "import numpy as np\n",
    "\n",
    "import wandb\n",
    "from tqdm import tqdm\n",
    "\n",
    "sys.path.append(os.path.abspath(os.path.join(os.getcwd(), '..')))\n",
    "\n",
    "\n"
   ]
  },
  {
   "cell_type": "code",
   "execution_count": 2,
   "metadata": {},
   "outputs": [
    {
     "name": "stderr",
     "output_type": "stream",
     "text": [
      "[nltk_data] Downloading package stopwords to /home/g_byte/nltk_data...\n",
      "[nltk_data]   Package stopwords is already up-to-date!\n",
      "[nltk_data] Downloading package punkt to /home/g_byte/nltk_data...\n",
      "[nltk_data]   Package punkt is already up-to-date!\n"
     ]
    }
   ],
   "source": [
    "from utils.load_data import load_word2vec\n"
   ]
  },
  {
   "cell_type": "code",
   "execution_count": 3,
   "metadata": {},
   "outputs": [],
   "source": [
    "\n",
    "from utils.preprocess_str import str_to_tokens, preprocess_list"
   ]
  },
  {
   "cell_type": "code",
   "execution_count": 4,
   "metadata": {},
   "outputs": [],
   "source": [
    "from models.core import DocumentDataset, TwoTowerModel, loss_fn"
   ]
  },
  {
   "cell_type": "code",
   "execution_count": 5,
   "metadata": {},
   "outputs": [],
   "source": [
    "from utils.checkpoint import save_checkpoint"
   ]
  },
  {
   "cell_type": "code",
   "execution_count": 6,
   "metadata": {},
   "outputs": [],
   "source": [
    "RANDOM_SEED = 42\n",
    "FREEZE_EMBEDDINGS = True\n",
    "VERBOSE = True\n",
    "HIDDEN_DIM = 128\n",
    "NUM_LAYERS = 1\n",
    "MARGIN = 0.5\n",
    "LEARNING_RATE = 0.000001\n",
    "NUM_EPOCHS = 3\n",
    "MODEL_NAME = \"mlx-w2-two-tower-search-finetuned-duh\"\n",
    "PROJECTION_DIM = 64"
   ]
  },
  {
   "cell_type": "code",
   "execution_count": 7,
   "metadata": {},
   "outputs": [],
   "source": [
    "df_validation = pd.read_parquet('./data/validation.parquet')"
   ]
  },
  {
   "cell_type": "code",
   "execution_count": 8,
   "metadata": {},
   "outputs": [],
   "source": [
    "# Load embeddings\n",
    "vocab,embeddings, word_to_idx = load_word2vec()\n",
    "embedding_layer = nn.Embedding.from_pretrained(embeddings, freeze=FREEZE_EMBEDDINGS)\n",
    "\n",
    "EMBEDDING_DIM = embeddings.shape[1]\n",
    "VOCAB_SIZE = len(vocab)"
   ]
  },
  {
   "cell_type": "code",
   "execution_count": 9,
   "metadata": {},
   "outputs": [],
   "source": [
    "# Pull data from sql then parse it into a df based on the the format below\n",
    "# df is in query| doc_relevant | url_relevant | doc_rel_tokens"
   ]
  },
  {
   "cell_type": "code",
   "execution_count": 10,
   "metadata": {},
   "outputs": [
    {
     "data": {
      "text/html": [
       "<div>\n",
       "<style scoped>\n",
       "    .dataframe tbody tr th:only-of-type {\n",
       "        vertical-align: middle;\n",
       "    }\n",
       "\n",
       "    .dataframe tbody tr th {\n",
       "        vertical-align: top;\n",
       "    }\n",
       "\n",
       "    .dataframe thead th {\n",
       "        text-align: right;\n",
       "    }\n",
       "</style>\n",
       "<table border=\"1\" class=\"dataframe\">\n",
       "  <thead>\n",
       "    <tr style=\"text-align: right;\">\n",
       "      <th></th>\n",
       "      <th>id</th>\n",
       "      <th>session_id</th>\n",
       "      <th>search_query</th>\n",
       "      <th>related_docs</th>\n",
       "      <th>selected_doc</th>\n",
       "      <th>created_at</th>\n",
       "    </tr>\n",
       "  </thead>\n",
       "  <tbody>\n",
       "    <tr>\n",
       "      <th>0</th>\n",
       "      <td>1</td>\n",
       "      <td>55406478-18e5-458f-992b-4b4cb6eb726e</td>\n",
       "      <td>chicken</td>\n",
       "      <td>{\"5. Bake the fish. Place the baking dish in t...</td>\n",
       "      <td>4</td>\n",
       "      <td>2024-10-31 10:54:34.576127</td>\n",
       "    </tr>\n",
       "    <tr>\n",
       "      <th>1</th>\n",
       "      <td>2</td>\n",
       "      <td>55406478-18e5-458f-992b-4b4cb6eb726e</td>\n",
       "      <td>chicken</td>\n",
       "      <td>{\"5. Bake the fish. Place the baking dish in t...</td>\n",
       "      <td>2</td>\n",
       "      <td>2024-10-31 10:58:28.713607</td>\n",
       "    </tr>\n",
       "    <tr>\n",
       "      <th>2</th>\n",
       "      <td>3</td>\n",
       "      <td>55406478-18e5-458f-992b-4b4cb6eb726e</td>\n",
       "      <td>chicken</td>\n",
       "      <td>{\"5. Bake the fish. Place the baking dish in t...</td>\n",
       "      <td>4</td>\n",
       "      <td>2024-10-31 10:58:36.771682</td>\n",
       "    </tr>\n",
       "    <tr>\n",
       "      <th>3</th>\n",
       "      <td>4</td>\n",
       "      <td>55406478-18e5-458f-992b-4b4cb6eb726e</td>\n",
       "      <td>fish</td>\n",
       "      <td>{\"There are two main types of coffee plant. Th...</td>\n",
       "      <td>1</td>\n",
       "      <td>2024-10-31 10:59:00.611794</td>\n",
       "    </tr>\n",
       "    <tr>\n",
       "      <th>4</th>\n",
       "      <td>5</td>\n",
       "      <td>55406478-18e5-458f-992b-4b4cb6eb726e</td>\n",
       "      <td>flower</td>\n",
       "      <td>{\"Most are dioecious, meaning they have male a...</td>\n",
       "      <td>0</td>\n",
       "      <td>2024-10-31 10:59:41.916059</td>\n",
       "    </tr>\n",
       "    <tr>\n",
       "      <th>5</th>\n",
       "      <td>6</td>\n",
       "      <td>55406478-18e5-458f-992b-4b4cb6eb726e</td>\n",
       "      <td>flower</td>\n",
       "      <td>{\"Most are dioecious, meaning they have male a...</td>\n",
       "      <td>3</td>\n",
       "      <td>2024-10-31 10:59:49.191131</td>\n",
       "    </tr>\n",
       "    <tr>\n",
       "      <th>6</th>\n",
       "      <td>7</td>\n",
       "      <td>55406478-18e5-458f-992b-4b4cb6eb726e</td>\n",
       "      <td>flower</td>\n",
       "      <td>{\"Most are dioecious, meaning they have male a...</td>\n",
       "      <td>4</td>\n",
       "      <td>2024-10-31 10:59:53.885600</td>\n",
       "    </tr>\n",
       "    <tr>\n",
       "      <th>7</th>\n",
       "      <td>8</td>\n",
       "      <td>55406478-18e5-458f-992b-4b4cb6eb726e</td>\n",
       "      <td>basketball</td>\n",
       "      <td>{\"Jeffrey Alan Samardzija (/səˈmɑrdʒə/ ; born ...</td>\n",
       "      <td>2</td>\n",
       "      <td>2024-10-31 11:00:30.914590</td>\n",
       "    </tr>\n",
       "    <tr>\n",
       "      <th>8</th>\n",
       "      <td>9</td>\n",
       "      <td>55406478-18e5-458f-992b-4b4cb6eb726e</td>\n",
       "      <td>basketball</td>\n",
       "      <td>{\"Jeffrey Alan Samardzija (/səˈmɑrdʒə/ ; born ...</td>\n",
       "      <td>3</td>\n",
       "      <td>2024-10-31 11:00:37.085660</td>\n",
       "    </tr>\n",
       "    <tr>\n",
       "      <th>9</th>\n",
       "      <td>10</td>\n",
       "      <td>55406478-18e5-458f-992b-4b4cb6eb726e</td>\n",
       "      <td>tea</td>\n",
       "      <td>{\"One mineral not added back into white rice i...</td>\n",
       "      <td>1</td>\n",
       "      <td>2024-10-31 11:01:05.583204</td>\n",
       "    </tr>\n",
       "    <tr>\n",
       "      <th>10</th>\n",
       "      <td>11</td>\n",
       "      <td>55406478-18e5-458f-992b-4b4cb6eb726e</td>\n",
       "      <td>europe</td>\n",
       "      <td>{\"Fez is located in the northeast part of Moro...</td>\n",
       "      <td>1</td>\n",
       "      <td>2024-10-31 11:01:50.352513</td>\n",
       "    </tr>\n",
       "    <tr>\n",
       "      <th>11</th>\n",
       "      <td>12</td>\n",
       "      <td>55406478-18e5-458f-992b-4b4cb6eb726e</td>\n",
       "      <td>china</td>\n",
       "      <td>{\"Jeddah. Jeddah is the holiday city of Saudi ...</td>\n",
       "      <td>2</td>\n",
       "      <td>2024-10-31 11:02:34.067773</td>\n",
       "    </tr>\n",
       "    <tr>\n",
       "      <th>12</th>\n",
       "      <td>13</td>\n",
       "      <td>55406478-18e5-458f-992b-4b4cb6eb726e</td>\n",
       "      <td>When does Frodo first encounter Faramir in Ith...</td>\n",
       "      <td>{\"Making the world better, one answer at a tim...</td>\n",
       "      <td>0</td>\n",
       "      <td>2024-10-31 11:04:18.733140</td>\n",
       "    </tr>\n",
       "    <tr>\n",
       "      <th>13</th>\n",
       "      <td>14</td>\n",
       "      <td>55406478-18e5-458f-992b-4b4cb6eb726e</td>\n",
       "      <td>who is the president of the united states?</td>\n",
       "      <td>{\"The Emancipation Proclamation vindicated. Th...</td>\n",
       "      <td>4</td>\n",
       "      <td>2024-10-31 11:05:16.144040</td>\n",
       "    </tr>\n",
       "  </tbody>\n",
       "</table>\n",
       "</div>"
      ],
      "text/plain": [
       "    id                            session_id  \\\n",
       "0    1  55406478-18e5-458f-992b-4b4cb6eb726e   \n",
       "1    2  55406478-18e5-458f-992b-4b4cb6eb726e   \n",
       "2    3  55406478-18e5-458f-992b-4b4cb6eb726e   \n",
       "3    4  55406478-18e5-458f-992b-4b4cb6eb726e   \n",
       "4    5  55406478-18e5-458f-992b-4b4cb6eb726e   \n",
       "5    6  55406478-18e5-458f-992b-4b4cb6eb726e   \n",
       "6    7  55406478-18e5-458f-992b-4b4cb6eb726e   \n",
       "7    8  55406478-18e5-458f-992b-4b4cb6eb726e   \n",
       "8    9  55406478-18e5-458f-992b-4b4cb6eb726e   \n",
       "9   10  55406478-18e5-458f-992b-4b4cb6eb726e   \n",
       "10  11  55406478-18e5-458f-992b-4b4cb6eb726e   \n",
       "11  12  55406478-18e5-458f-992b-4b4cb6eb726e   \n",
       "12  13  55406478-18e5-458f-992b-4b4cb6eb726e   \n",
       "13  14  55406478-18e5-458f-992b-4b4cb6eb726e   \n",
       "\n",
       "                                         search_query  \\\n",
       "0                                             chicken   \n",
       "1                                             chicken   \n",
       "2                                             chicken   \n",
       "3                                                fish   \n",
       "4                                              flower   \n",
       "5                                              flower   \n",
       "6                                              flower   \n",
       "7                                          basketball   \n",
       "8                                          basketball   \n",
       "9                                                 tea   \n",
       "10                                             europe   \n",
       "11                                              china   \n",
       "12  When does Frodo first encounter Faramir in Ith...   \n",
       "13         who is the president of the united states?   \n",
       "\n",
       "                                         related_docs  selected_doc  \\\n",
       "0   {\"5. Bake the fish. Place the baking dish in t...             4   \n",
       "1   {\"5. Bake the fish. Place the baking dish in t...             2   \n",
       "2   {\"5. Bake the fish. Place the baking dish in t...             4   \n",
       "3   {\"There are two main types of coffee plant. Th...             1   \n",
       "4   {\"Most are dioecious, meaning they have male a...             0   \n",
       "5   {\"Most are dioecious, meaning they have male a...             3   \n",
       "6   {\"Most are dioecious, meaning they have male a...             4   \n",
       "7   {\"Jeffrey Alan Samardzija (/səˈmɑrdʒə/ ; born ...             2   \n",
       "8   {\"Jeffrey Alan Samardzija (/səˈmɑrdʒə/ ; born ...             3   \n",
       "9   {\"One mineral not added back into white rice i...             1   \n",
       "10  {\"Fez is located in the northeast part of Moro...             1   \n",
       "11  {\"Jeddah. Jeddah is the holiday city of Saudi ...             2   \n",
       "12  {\"Making the world better, one answer at a tim...             0   \n",
       "13  {\"The Emancipation Proclamation vindicated. Th...             4   \n",
       "\n",
       "                   created_at  \n",
       "0  2024-10-31 10:54:34.576127  \n",
       "1  2024-10-31 10:58:28.713607  \n",
       "2  2024-10-31 10:58:36.771682  \n",
       "3  2024-10-31 10:59:00.611794  \n",
       "4  2024-10-31 10:59:41.916059  \n",
       "5  2024-10-31 10:59:49.191131  \n",
       "6  2024-10-31 10:59:53.885600  \n",
       "7  2024-10-31 11:00:30.914590  \n",
       "8  2024-10-31 11:00:37.085660  \n",
       "9  2024-10-31 11:01:05.583204  \n",
       "10 2024-10-31 11:01:50.352513  \n",
       "11 2024-10-31 11:02:34.067773  \n",
       "12 2024-10-31 11:04:18.733140  \n",
       "13 2024-10-31 11:05:16.144040  "
      ]
     },
     "execution_count": 10,
     "metadata": {},
     "output_type": "execute_result"
    }
   ],
   "source": [
    "# Load data to fine tune the model on user logs\n",
    "#df_user_logs = pd.read_parquet('../data/user_logs.parquet')\n",
    "\n",
    "df = pd.read_parquet('./df.parquet')\n",
    "df.head(15)"
   ]
  },
  {
   "cell_type": "code",
   "execution_count": 11,
   "metadata": {},
   "outputs": [
    {
     "data": {
      "text/html": [
       "<div>\n",
       "<style scoped>\n",
       "    .dataframe tbody tr th:only-of-type {\n",
       "        vertical-align: middle;\n",
       "    }\n",
       "\n",
       "    .dataframe tbody tr th {\n",
       "        vertical-align: top;\n",
       "    }\n",
       "\n",
       "    .dataframe thead th {\n",
       "        text-align: right;\n",
       "    }\n",
       "</style>\n",
       "<table border=\"1\" class=\"dataframe\">\n",
       "  <thead>\n",
       "    <tr style=\"text-align: right;\">\n",
       "      <th></th>\n",
       "      <th>query</th>\n",
       "      <th>doc_relevant</th>\n",
       "      <th>doc_irrelevant</th>\n",
       "    </tr>\n",
       "  </thead>\n",
       "  <tbody>\n",
       "    <tr>\n",
       "      <th>0</th>\n",
       "      <td>chicken</td>\n",
       "      <td>{\"5. Bake the fish. Place the baking dish in t...</td>\n",
       "      <td></td>\n",
       "    </tr>\n",
       "    <tr>\n",
       "      <th>1</th>\n",
       "      <td>chicken</td>\n",
       "      <td>{\"5. Bake the fish. Place the baking dish in t...</td>\n",
       "      <td></td>\n",
       "    </tr>\n",
       "    <tr>\n",
       "      <th>2</th>\n",
       "      <td>chicken</td>\n",
       "      <td>{\"5. Bake the fish. Place the baking dish in t...</td>\n",
       "      <td></td>\n",
       "    </tr>\n",
       "    <tr>\n",
       "      <th>3</th>\n",
       "      <td>fish</td>\n",
       "      <td>{\"There are two main types of coffee plant. Th...</td>\n",
       "      <td></td>\n",
       "    </tr>\n",
       "    <tr>\n",
       "      <th>4</th>\n",
       "      <td>flower</td>\n",
       "      <td>{\"Most are dioecious, meaning they have male a...</td>\n",
       "      <td></td>\n",
       "    </tr>\n",
       "  </tbody>\n",
       "</table>\n",
       "</div>"
      ],
      "text/plain": [
       "     query                                       doc_relevant doc_irrelevant\n",
       "0  chicken  {\"5. Bake the fish. Place the baking dish in t...               \n",
       "1  chicken  {\"5. Bake the fish. Place the baking dish in t...               \n",
       "2  chicken  {\"5. Bake the fish. Place the baking dish in t...               \n",
       "3     fish  {\"There are two main types of coffee plant. Th...               \n",
       "4   flower  {\"Most are dioecious, meaning they have male a...               "
      ]
     },
     "execution_count": 11,
     "metadata": {},
     "output_type": "execute_result"
    }
   ],
   "source": [
    "df = df[['search_query', 'related_docs']].copy()\n",
    "\n",
    "df.rename(columns={'search_query': 'query', 'related_docs': 'doc_relevant'}, inplace=True)\n",
    "df['doc_irrelevant'] = \"\"\n",
    "df.head()"
   ]
  },
  {
   "cell_type": "code",
   "execution_count": 12,
   "metadata": {},
   "outputs": [
    {
     "data": {
      "text/html": [
       "<div>\n",
       "<style scoped>\n",
       "    .dataframe tbody tr th:only-of-type {\n",
       "        vertical-align: middle;\n",
       "    }\n",
       "\n",
       "    .dataframe tbody tr th {\n",
       "        vertical-align: top;\n",
       "    }\n",
       "\n",
       "    .dataframe thead th {\n",
       "        text-align: right;\n",
       "    }\n",
       "</style>\n",
       "<table border=\"1\" class=\"dataframe\">\n",
       "  <thead>\n",
       "    <tr style=\"text-align: right;\">\n",
       "      <th></th>\n",
       "      <th>query</th>\n",
       "      <th>doc_relevant</th>\n",
       "      <th>doc_irrelevant</th>\n",
       "      <th>doc_rel_tokens</th>\n",
       "      <th>doc_irr_tokens</th>\n",
       "      <th>query_tokens</th>\n",
       "    </tr>\n",
       "  </thead>\n",
       "  <tbody>\n",
       "    <tr>\n",
       "      <th>0</th>\n",
       "      <td>chicken</td>\n",
       "      <td>{\"5. Bake the fish. Place the baking dish in t...</td>\n",
       "      <td></td>\n",
       "      <td>[1133, 7436, 1130, 108, 7436, 2906, 10331, 182...</td>\n",
       "      <td>[1133, 1134]</td>\n",
       "      <td>[1133, 4501, 1134]</td>\n",
       "    </tr>\n",
       "    <tr>\n",
       "      <th>1</th>\n",
       "      <td>chicken</td>\n",
       "      <td>{\"5. Bake the fish. Place the baking dish in t...</td>\n",
       "      <td></td>\n",
       "      <td>[1133, 7436, 1130, 108, 7436, 2906, 10331, 182...</td>\n",
       "      <td>[1133, 1134]</td>\n",
       "      <td>[1133, 4501, 1134]</td>\n",
       "    </tr>\n",
       "    <tr>\n",
       "      <th>2</th>\n",
       "      <td>chicken</td>\n",
       "      <td>{\"5. Bake the fish. Place the baking dish in t...</td>\n",
       "      <td></td>\n",
       "      <td>[1133, 7436, 1130, 108, 7436, 2906, 10331, 182...</td>\n",
       "      <td>[1133, 1134]</td>\n",
       "      <td>[1133, 4501, 1134]</td>\n",
       "    </tr>\n",
       "    <tr>\n",
       "      <th>3</th>\n",
       "      <td>fish</td>\n",
       "      <td>{\"There are two main types of coffee plant. Th...</td>\n",
       "      <td></td>\n",
       "      <td>[1133, 3, 197, 204, 3040, 706, 40061, 33872, 1...</td>\n",
       "      <td>[1133, 1134]</td>\n",
       "      <td>[1133, 1130, 1134]</td>\n",
       "    </tr>\n",
       "    <tr>\n",
       "      <th>4</th>\n",
       "      <td>flower</td>\n",
       "      <td>{\"Most are dioecious, meaning they have male a...</td>\n",
       "      <td></td>\n",
       "      <td>[1133, 89, 527, 538, 2264, 59, 706, 1184, 313,...</td>\n",
       "      <td>[1133, 1134]</td>\n",
       "      <td>[1133, 2264, 1134]</td>\n",
       "    </tr>\n",
       "    <tr>\n",
       "      <th>5</th>\n",
       "      <td>flower</td>\n",
       "      <td>{\"Most are dioecious, meaning they have male a...</td>\n",
       "      <td></td>\n",
       "      <td>[1133, 89, 527, 538, 2264, 59, 706, 1184, 313,...</td>\n",
       "      <td>[1133, 1134]</td>\n",
       "      <td>[1133, 2264, 1134]</td>\n",
       "    </tr>\n",
       "    <tr>\n",
       "      <th>6</th>\n",
       "      <td>flower</td>\n",
       "      <td>{\"Most are dioecious, meaning they have male a...</td>\n",
       "      <td></td>\n",
       "      <td>[1133, 89, 527, 538, 2264, 59, 706, 1184, 313,...</td>\n",
       "      <td>[1133, 1134]</td>\n",
       "      <td>[1133, 2264, 1134]</td>\n",
       "    </tr>\n",
       "    <tr>\n",
       "      <th>7</th>\n",
       "      <td>basketball</td>\n",
       "      <td>{\"Jeffrey Alan Samardzija (/səˈmɑrdʒə/ ; born ...</td>\n",
       "      <td></td>\n",
       "      <td>[1133, 6078, 2425, 265, 481, 2283, 6266, 19, 9...</td>\n",
       "      <td>[1133, 1134]</td>\n",
       "      <td>[1133, 2687, 1134]</td>\n",
       "    </tr>\n",
       "    <tr>\n",
       "      <th>8</th>\n",
       "      <td>basketball</td>\n",
       "      <td>{\"Jeffrey Alan Samardzija (/səˈmɑrdʒə/ ; born ...</td>\n",
       "      <td></td>\n",
       "      <td>[1133, 6078, 2425, 265, 481, 2283, 6266, 19, 9...</td>\n",
       "      <td>[1133, 1134]</td>\n",
       "      <td>[1133, 2687, 1134]</td>\n",
       "    </tr>\n",
       "    <tr>\n",
       "      <th>9</th>\n",
       "      <td>tea</td>\n",
       "      <td>{\"One mineral not added back into white rice i...</td>\n",
       "      <td></td>\n",
       "      <td>[1133, 0, 1854, 343, 235, 420, 2658, 6511, 0, ...</td>\n",
       "      <td>[1133, 1134]</td>\n",
       "      <td>[1133, 3507, 1134]</td>\n",
       "    </tr>\n",
       "    <tr>\n",
       "      <th>10</th>\n",
       "      <td>europe</td>\n",
       "      <td>{\"Fez is located in the northeast part of Moro...</td>\n",
       "      <td></td>\n",
       "      <td>[1133, 20749, 351, 3188, 41, 2976, 10530, 531,...</td>\n",
       "      <td>[1133, 1134]</td>\n",
       "      <td>[1133, 296, 1134]</td>\n",
       "    </tr>\n",
       "    <tr>\n",
       "      <th>11</th>\n",
       "      <td>china</td>\n",
       "      <td>{\"Jeddah. Jeddah is the holiday city of Saudi ...</td>\n",
       "      <td></td>\n",
       "      <td>[1133, 32650, 32650, 1519, 36, 3555, 3629, 326...</td>\n",
       "      <td>[1133, 1134]</td>\n",
       "      <td>[1133, 530, 1134]</td>\n",
       "    </tr>\n",
       "    <tr>\n",
       "      <th>12</th>\n",
       "      <td>When does Frodo first encounter Faramir in Ith...</td>\n",
       "      <td>{\"Making the world better, one answer at a tim...</td>\n",
       "      <td></td>\n",
       "      <td>[1133, 67, 25, 879, 0, 1478, 14, 3914, 5314, 3...</td>\n",
       "      <td>[1133, 1134]</td>\n",
       "      <td>[1133, 10183, 13, 2211, 8718, 31742, 1134]</td>\n",
       "    </tr>\n",
       "    <tr>\n",
       "      <th>13</th>\n",
       "      <td>who is the president of the united states?</td>\n",
       "      <td>{\"The Emancipation Proclamation vindicated. Th...</td>\n",
       "      <td></td>\n",
       "      <td>[1133, 6304, 5370, 10690, 6304, 5370, 125, 24,...</td>\n",
       "      <td>[1133, 1134]</td>\n",
       "      <td>[1133, 125, 24, 12, 1134]</td>\n",
       "    </tr>\n",
       "  </tbody>\n",
       "</table>\n",
       "</div>"
      ],
      "text/plain": [
       "                                                query  \\\n",
       "0                                             chicken   \n",
       "1                                             chicken   \n",
       "2                                             chicken   \n",
       "3                                                fish   \n",
       "4                                              flower   \n",
       "5                                              flower   \n",
       "6                                              flower   \n",
       "7                                          basketball   \n",
       "8                                          basketball   \n",
       "9                                                 tea   \n",
       "10                                             europe   \n",
       "11                                              china   \n",
       "12  When does Frodo first encounter Faramir in Ith...   \n",
       "13         who is the president of the united states?   \n",
       "\n",
       "                                         doc_relevant doc_irrelevant  \\\n",
       "0   {\"5. Bake the fish. Place the baking dish in t...                  \n",
       "1   {\"5. Bake the fish. Place the baking dish in t...                  \n",
       "2   {\"5. Bake the fish. Place the baking dish in t...                  \n",
       "3   {\"There are two main types of coffee plant. Th...                  \n",
       "4   {\"Most are dioecious, meaning they have male a...                  \n",
       "5   {\"Most are dioecious, meaning they have male a...                  \n",
       "6   {\"Most are dioecious, meaning they have male a...                  \n",
       "7   {\"Jeffrey Alan Samardzija (/səˈmɑrdʒə/ ; born ...                  \n",
       "8   {\"Jeffrey Alan Samardzija (/səˈmɑrdʒə/ ; born ...                  \n",
       "9   {\"One mineral not added back into white rice i...                  \n",
       "10  {\"Fez is located in the northeast part of Moro...                  \n",
       "11  {\"Jeddah. Jeddah is the holiday city of Saudi ...                  \n",
       "12  {\"Making the world better, one answer at a tim...                  \n",
       "13  {\"The Emancipation Proclamation vindicated. Th...                  \n",
       "\n",
       "                                       doc_rel_tokens doc_irr_tokens  \\\n",
       "0   [1133, 7436, 1130, 108, 7436, 2906, 10331, 182...   [1133, 1134]   \n",
       "1   [1133, 7436, 1130, 108, 7436, 2906, 10331, 182...   [1133, 1134]   \n",
       "2   [1133, 7436, 1130, 108, 7436, 2906, 10331, 182...   [1133, 1134]   \n",
       "3   [1133, 3, 197, 204, 3040, 706, 40061, 33872, 1...   [1133, 1134]   \n",
       "4   [1133, 89, 527, 538, 2264, 59, 706, 1184, 313,...   [1133, 1134]   \n",
       "5   [1133, 89, 527, 538, 2264, 59, 706, 1184, 313,...   [1133, 1134]   \n",
       "6   [1133, 89, 527, 538, 2264, 59, 706, 1184, 313,...   [1133, 1134]   \n",
       "7   [1133, 6078, 2425, 265, 481, 2283, 6266, 19, 9...   [1133, 1134]   \n",
       "8   [1133, 6078, 2425, 265, 481, 2283, 6266, 19, 9...   [1133, 1134]   \n",
       "9   [1133, 0, 1854, 343, 235, 420, 2658, 6511, 0, ...   [1133, 1134]   \n",
       "10  [1133, 20749, 351, 3188, 41, 2976, 10530, 531,...   [1133, 1134]   \n",
       "11  [1133, 32650, 32650, 1519, 36, 3555, 3629, 326...   [1133, 1134]   \n",
       "12  [1133, 67, 25, 879, 0, 1478, 14, 3914, 5314, 3...   [1133, 1134]   \n",
       "13  [1133, 6304, 5370, 10690, 6304, 5370, 125, 24,...   [1133, 1134]   \n",
       "\n",
       "                                  query_tokens  \n",
       "0                           [1133, 4501, 1134]  \n",
       "1                           [1133, 4501, 1134]  \n",
       "2                           [1133, 4501, 1134]  \n",
       "3                           [1133, 1130, 1134]  \n",
       "4                           [1133, 2264, 1134]  \n",
       "5                           [1133, 2264, 1134]  \n",
       "6                           [1133, 2264, 1134]  \n",
       "7                           [1133, 2687, 1134]  \n",
       "8                           [1133, 2687, 1134]  \n",
       "9                           [1133, 3507, 1134]  \n",
       "10                           [1133, 296, 1134]  \n",
       "11                           [1133, 530, 1134]  \n",
       "12  [1133, 10183, 13, 2211, 8718, 31742, 1134]  \n",
       "13                   [1133, 125, 24, 12, 1134]  "
      ]
     },
     "execution_count": 12,
     "metadata": {},
     "output_type": "execute_result"
    }
   ],
   "source": [
    "def tokenize(df, word_to_idx):\n",
    "    # Tokenize\n",
    "    df.loc[:, 'doc_rel_tokens'] = df['doc_relevant'].apply(lambda x: str_to_tokens(x, word_to_idx))\n",
    "    df.loc[:, 'doc_irr_tokens'] = df['doc_irrelevant'].apply(lambda x: str_to_tokens(x, word_to_idx))\n",
    "    df.loc[:, 'query_tokens'] = df['query'].apply(lambda x: str_to_tokens(x, word_to_idx))\n",
    "    return df\n",
    "\n",
    "tokenize(df,word_to_idx)"
   ]
  },
  {
   "cell_type": "code",
   "execution_count": 13,
   "metadata": {},
   "outputs": [
    {
     "data": {
      "text/html": [
       "<div>\n",
       "<style scoped>\n",
       "    .dataframe tbody tr th:only-of-type {\n",
       "        vertical-align: middle;\n",
       "    }\n",
       "\n",
       "    .dataframe tbody tr th {\n",
       "        vertical-align: top;\n",
       "    }\n",
       "\n",
       "    .dataframe thead th {\n",
       "        text-align: right;\n",
       "    }\n",
       "</style>\n",
       "<table border=\"1\" class=\"dataframe\">\n",
       "  <thead>\n",
       "    <tr style=\"text-align: right;\">\n",
       "      <th></th>\n",
       "      <th>query</th>\n",
       "      <th>doc_relevant</th>\n",
       "      <th>doc_irrelevant</th>\n",
       "      <th>doc_rel_tokens</th>\n",
       "      <th>doc_irr_tokens</th>\n",
       "      <th>query_tokens</th>\n",
       "    </tr>\n",
       "  </thead>\n",
       "  <tbody>\n",
       "    <tr>\n",
       "      <th>0</th>\n",
       "      <td>chicken</td>\n",
       "      <td>{\"5. Bake the fish. Place the baking dish in t...</td>\n",
       "      <td></td>\n",
       "      <td>[1133, 7436, 1130, 108, 7436, 2906, 10331, 182...</td>\n",
       "      <td>[1133, 1134]</td>\n",
       "      <td>[1133, 4501, 1134]</td>\n",
       "    </tr>\n",
       "    <tr>\n",
       "      <th>1</th>\n",
       "      <td>chicken</td>\n",
       "      <td>{\"5. Bake the fish. Place the baking dish in t...</td>\n",
       "      <td></td>\n",
       "      <td>[1133, 7436, 1130, 108, 7436, 2906, 10331, 182...</td>\n",
       "      <td>[1133, 1134]</td>\n",
       "      <td>[1133, 4501, 1134]</td>\n",
       "    </tr>\n",
       "    <tr>\n",
       "      <th>2</th>\n",
       "      <td>chicken</td>\n",
       "      <td>{\"5. Bake the fish. Place the baking dish in t...</td>\n",
       "      <td></td>\n",
       "      <td>[1133, 7436, 1130, 108, 7436, 2906, 10331, 182...</td>\n",
       "      <td>[1133, 1134]</td>\n",
       "      <td>[1133, 4501, 1134]</td>\n",
       "    </tr>\n",
       "    <tr>\n",
       "      <th>3</th>\n",
       "      <td>fish</td>\n",
       "      <td>{\"There are two main types of coffee plant. Th...</td>\n",
       "      <td></td>\n",
       "      <td>[1133, 3, 197, 204, 3040, 706, 40061, 33872, 1...</td>\n",
       "      <td>[1133, 1134]</td>\n",
       "      <td>[1133, 1130, 1134]</td>\n",
       "    </tr>\n",
       "    <tr>\n",
       "      <th>4</th>\n",
       "      <td>flower</td>\n",
       "      <td>{\"Most are dioecious, meaning they have male a...</td>\n",
       "      <td></td>\n",
       "      <td>[1133, 89, 527, 538, 2264, 59, 706, 1184, 313,...</td>\n",
       "      <td>[1133, 1134]</td>\n",
       "      <td>[1133, 2264, 1134]</td>\n",
       "    </tr>\n",
       "    <tr>\n",
       "      <th>5</th>\n",
       "      <td>flower</td>\n",
       "      <td>{\"Most are dioecious, meaning they have male a...</td>\n",
       "      <td></td>\n",
       "      <td>[1133, 89, 527, 538, 2264, 59, 706, 1184, 313,...</td>\n",
       "      <td>[1133, 1134]</td>\n",
       "      <td>[1133, 2264, 1134]</td>\n",
       "    </tr>\n",
       "    <tr>\n",
       "      <th>6</th>\n",
       "      <td>flower</td>\n",
       "      <td>{\"Most are dioecious, meaning they have male a...</td>\n",
       "      <td></td>\n",
       "      <td>[1133, 89, 527, 538, 2264, 59, 706, 1184, 313,...</td>\n",
       "      <td>[1133, 1134]</td>\n",
       "      <td>[1133, 2264, 1134]</td>\n",
       "    </tr>\n",
       "    <tr>\n",
       "      <th>7</th>\n",
       "      <td>basketball</td>\n",
       "      <td>{\"Jeffrey Alan Samardzija (/səˈmɑrdʒə/ ; born ...</td>\n",
       "      <td></td>\n",
       "      <td>[1133, 6078, 2425, 265, 481, 2283, 6266, 19, 9...</td>\n",
       "      <td>[1133, 1134]</td>\n",
       "      <td>[1133, 2687, 1134]</td>\n",
       "    </tr>\n",
       "    <tr>\n",
       "      <th>8</th>\n",
       "      <td>basketball</td>\n",
       "      <td>{\"Jeffrey Alan Samardzija (/səˈmɑrdʒə/ ; born ...</td>\n",
       "      <td></td>\n",
       "      <td>[1133, 6078, 2425, 265, 481, 2283, 6266, 19, 9...</td>\n",
       "      <td>[1133, 1134]</td>\n",
       "      <td>[1133, 2687, 1134]</td>\n",
       "    </tr>\n",
       "    <tr>\n",
       "      <th>9</th>\n",
       "      <td>tea</td>\n",
       "      <td>{\"One mineral not added back into white rice i...</td>\n",
       "      <td></td>\n",
       "      <td>[1133, 0, 1854, 343, 235, 420, 2658, 6511, 0, ...</td>\n",
       "      <td>[1133, 1134]</td>\n",
       "      <td>[1133, 3507, 1134]</td>\n",
       "    </tr>\n",
       "    <tr>\n",
       "      <th>10</th>\n",
       "      <td>europe</td>\n",
       "      <td>{\"Fez is located in the northeast part of Moro...</td>\n",
       "      <td></td>\n",
       "      <td>[1133, 20749, 351, 3188, 41, 2976, 10530, 531,...</td>\n",
       "      <td>[1133, 1134]</td>\n",
       "      <td>[1133, 296, 1134]</td>\n",
       "    </tr>\n",
       "    <tr>\n",
       "      <th>11</th>\n",
       "      <td>china</td>\n",
       "      <td>{\"Jeddah. Jeddah is the holiday city of Saudi ...</td>\n",
       "      <td></td>\n",
       "      <td>[1133, 32650, 32650, 1519, 36, 3555, 3629, 326...</td>\n",
       "      <td>[1133, 1134]</td>\n",
       "      <td>[1133, 530, 1134]</td>\n",
       "    </tr>\n",
       "    <tr>\n",
       "      <th>12</th>\n",
       "      <td>When does Frodo first encounter Faramir in Ith...</td>\n",
       "      <td>{\"Making the world better, one answer at a tim...</td>\n",
       "      <td></td>\n",
       "      <td>[1133, 67, 25, 879, 0, 1478, 14, 3914, 5314, 3...</td>\n",
       "      <td>[1133, 1134]</td>\n",
       "      <td>[1133, 10183, 13, 2211, 8718, 31742, 1134]</td>\n",
       "    </tr>\n",
       "    <tr>\n",
       "      <th>13</th>\n",
       "      <td>who is the president of the united states?</td>\n",
       "      <td>{\"The Emancipation Proclamation vindicated. Th...</td>\n",
       "      <td></td>\n",
       "      <td>[1133, 6304, 5370, 10690, 6304, 5370, 125, 24,...</td>\n",
       "      <td>[1133, 1134]</td>\n",
       "      <td>[1133, 125, 24, 12, 1134]</td>\n",
       "    </tr>\n",
       "  </tbody>\n",
       "</table>\n",
       "</div>"
      ],
      "text/plain": [
       "                                                query  \\\n",
       "0                                             chicken   \n",
       "1                                             chicken   \n",
       "2                                             chicken   \n",
       "3                                                fish   \n",
       "4                                              flower   \n",
       "5                                              flower   \n",
       "6                                              flower   \n",
       "7                                          basketball   \n",
       "8                                          basketball   \n",
       "9                                                 tea   \n",
       "10                                             europe   \n",
       "11                                              china   \n",
       "12  When does Frodo first encounter Faramir in Ith...   \n",
       "13         who is the president of the united states?   \n",
       "\n",
       "                                         doc_relevant doc_irrelevant  \\\n",
       "0   {\"5. Bake the fish. Place the baking dish in t...                  \n",
       "1   {\"5. Bake the fish. Place the baking dish in t...                  \n",
       "2   {\"5. Bake the fish. Place the baking dish in t...                  \n",
       "3   {\"There are two main types of coffee plant. Th...                  \n",
       "4   {\"Most are dioecious, meaning they have male a...                  \n",
       "5   {\"Most are dioecious, meaning they have male a...                  \n",
       "6   {\"Most are dioecious, meaning they have male a...                  \n",
       "7   {\"Jeffrey Alan Samardzija (/səˈmɑrdʒə/ ; born ...                  \n",
       "8   {\"Jeffrey Alan Samardzija (/səˈmɑrdʒə/ ; born ...                  \n",
       "9   {\"One mineral not added back into white rice i...                  \n",
       "10  {\"Fez is located in the northeast part of Moro...                  \n",
       "11  {\"Jeddah. Jeddah is the holiday city of Saudi ...                  \n",
       "12  {\"Making the world better, one answer at a tim...                  \n",
       "13  {\"The Emancipation Proclamation vindicated. Th...                  \n",
       "\n",
       "                                       doc_rel_tokens doc_irr_tokens  \\\n",
       "0   [1133, 7436, 1130, 108, 7436, 2906, 10331, 182...   [1133, 1134]   \n",
       "1   [1133, 7436, 1130, 108, 7436, 2906, 10331, 182...   [1133, 1134]   \n",
       "2   [1133, 7436, 1130, 108, 7436, 2906, 10331, 182...   [1133, 1134]   \n",
       "3   [1133, 3, 197, 204, 3040, 706, 40061, 33872, 1...   [1133, 1134]   \n",
       "4   [1133, 89, 527, 538, 2264, 59, 706, 1184, 313,...   [1133, 1134]   \n",
       "5   [1133, 89, 527, 538, 2264, 59, 706, 1184, 313,...   [1133, 1134]   \n",
       "6   [1133, 89, 527, 538, 2264, 59, 706, 1184, 313,...   [1133, 1134]   \n",
       "7   [1133, 6078, 2425, 265, 481, 2283, 6266, 19, 9...   [1133, 1134]   \n",
       "8   [1133, 6078, 2425, 265, 481, 2283, 6266, 19, 9...   [1133, 1134]   \n",
       "9   [1133, 0, 1854, 343, 235, 420, 2658, 6511, 0, ...   [1133, 1134]   \n",
       "10  [1133, 20749, 351, 3188, 41, 2976, 10530, 531,...   [1133, 1134]   \n",
       "11  [1133, 32650, 32650, 1519, 36, 3555, 3629, 326...   [1133, 1134]   \n",
       "12  [1133, 67, 25, 879, 0, 1478, 14, 3914, 5314, 3...   [1133, 1134]   \n",
       "13  [1133, 6304, 5370, 10690, 6304, 5370, 125, 24,...   [1133, 1134]   \n",
       "\n",
       "                                  query_tokens  \n",
       "0                           [1133, 4501, 1134]  \n",
       "1                           [1133, 4501, 1134]  \n",
       "2                           [1133, 4501, 1134]  \n",
       "3                           [1133, 1130, 1134]  \n",
       "4                           [1133, 2264, 1134]  \n",
       "5                           [1133, 2264, 1134]  \n",
       "6                           [1133, 2264, 1134]  \n",
       "7                           [1133, 2687, 1134]  \n",
       "8                           [1133, 2687, 1134]  \n",
       "9                           [1133, 3507, 1134]  \n",
       "10                           [1133, 296, 1134]  \n",
       "11                           [1133, 530, 1134]  \n",
       "12  [1133, 10183, 13, 2211, 8718, 31742, 1134]  \n",
       "13                   [1133, 125, 24, 12, 1134]  "
      ]
     },
     "execution_count": 13,
     "metadata": {},
     "output_type": "execute_result"
    }
   ],
   "source": [
    "df_full = df.copy()\n",
    "df_full.head(20)"
   ]
  },
  {
   "cell_type": "code",
   "execution_count": 14,
   "metadata": {},
   "outputs": [],
   "source": [
    "df = df.sample(n=10, random_state=RANDOM_SEED)"
   ]
  },
  {
   "cell_type": "code",
   "execution_count": 15,
   "metadata": {},
   "outputs": [
    {
     "name": "stdout",
     "output_type": "stream",
     "text": [
      "Index(['query', 'doc_relevant', 'doc_irrelevant', 'doc_rel_tokens',\n",
      "       'doc_irr_tokens', 'query_tokens'],\n",
      "      dtype='object')\n"
     ]
    }
   ],
   "source": [
    "print(df_full.columns)\n"
   ]
  },
  {
   "cell_type": "code",
   "execution_count": 16,
   "metadata": {},
   "outputs": [],
   "source": [
    "dataset = DocumentDataset(df_full)"
   ]
  },
  {
   "cell_type": "code",
   "execution_count": null,
   "metadata": {},
   "outputs": [],
   "source": [
    "import importlib\n",
    "import models.core\n",
    "\n",
    "importlib.reload(models.core)\n",
    "import utils.collate\n",
    "\n",
    "importlib.reload(utils.collate)\n",
    "from utils.collate import collate\n",
    "\n",
    "\n",
    "\n",
    "dataloader = DataLoader(dataset, batch_size=32, shuffle=False, collate_fn=collate)"
   ]
  },
  {
   "cell_type": "code",
   "execution_count": 18,
   "metadata": {},
   "outputs": [],
   "source": [
    "\n",
    "# Create model\n",
    "model = TwoTowerModel(embedding_dim=EMBEDDING_DIM, projection_dim=PROJECTION_DIM, embedding_layer=embedding_layer, margin=MARGIN)\n",
    "optimizer = optim.Adam(model.parameters(), lr=LEARNING_RATE)\n",
    "\n"
   ]
  },
  {
   "cell_type": "code",
   "execution_count": 19,
   "metadata": {},
   "outputs": [],
   "source": [
    "projection_dim_sweep = [24, 48, 96, 192]\n",
    "margin_sweep = [0.1, 0.4, 0.7, 1.0]\n",
    "lr_sweep = [LEARNING_RATE * i for i in [0.0001, 0.001, 0.01, 0.1, 1]]"
   ]
  },
  {
   "cell_type": "code",
   "execution_count": 20,
   "metadata": {},
   "outputs": [
    {
     "name": "stderr",
     "output_type": "stream",
     "text": [
      "\u001b[34m\u001b[1mwandb\u001b[0m: Using wandb-core as the SDK backend. Please refer to https://wandb.me/wandb-core for more information.\n",
      "\u001b[34m\u001b[1mwandb\u001b[0m: Currently logged in as: \u001b[33mgurleenvasir0\u001b[0m (\u001b[33mgurleenvasir0-me\u001b[0m). Use \u001b[1m`wandb login --relogin`\u001b[0m to force relogin\n"
     ]
    },
    {
     "data": {
      "application/vnd.jupyter.widget-view+json": {
       "model_id": "107d53584c124034bd2d2df48ee868c2",
       "version_major": 2,
       "version_minor": 0
      },
      "text/plain": [
       "VBox(children=(Label(value='Waiting for wandb.init()...\\r'), FloatProgress(value=0.011112635611142549, max=1.0…"
      ]
     },
     "metadata": {},
     "output_type": "display_data"
    },
    {
     "data": {
      "text/html": [
       "Tracking run with wandb version 0.18.5"
      ],
      "text/plain": [
       "<IPython.core.display.HTML object>"
      ]
     },
     "metadata": {},
     "output_type": "display_data"
    },
    {
     "data": {
      "text/html": [
       "Run data is saved locally in <code>/home/g_byte/MLOPs/backend/fastapi/wandb/run-20241031_140621-ogejg5tx</code>"
      ],
      "text/plain": [
       "<IPython.core.display.HTML object>"
      ]
     },
     "metadata": {},
     "output_type": "display_data"
    },
    {
     "data": {
      "text/html": [
       "Syncing run <strong><a href='https://wandb.ai/gurleenvasir0-me/mlx-w2-two-tower-search-finetuned-duh/runs/ogejg5tx' target=\"_blank\">avg_pooling_projection_dim_24_commit_3799989</a></strong> to <a href='https://wandb.ai/gurleenvasir0-me/mlx-w2-two-tower-search-finetuned-duh' target=\"_blank\">Weights & Biases</a> (<a href='https://wandb.me/run' target=\"_blank\">docs</a>)<br/>"
      ],
      "text/plain": [
       "<IPython.core.display.HTML object>"
      ]
     },
     "metadata": {},
     "output_type": "display_data"
    },
    {
     "data": {
      "text/html": [
       " View project at <a href='https://wandb.ai/gurleenvasir0-me/mlx-w2-two-tower-search-finetuned-duh' target=\"_blank\">https://wandb.ai/gurleenvasir0-me/mlx-w2-two-tower-search-finetuned-duh</a>"
      ],
      "text/plain": [
       "<IPython.core.display.HTML object>"
      ]
     },
     "metadata": {},
     "output_type": "display_data"
    },
    {
     "data": {
      "text/html": [
       " View run at <a href='https://wandb.ai/gurleenvasir0-me/mlx-w2-two-tower-search-finetuned-duh/runs/ogejg5tx' target=\"_blank\">https://wandb.ai/gurleenvasir0-me/mlx-w2-two-tower-search-finetuned-duh/runs/ogejg5tx</a>"
      ],
      "text/plain": [
       "<IPython.core.display.HTML object>"
      ]
     },
     "metadata": {},
     "output_type": "display_data"
    },
    {
     "name": "stdout",
     "output_type": "stream",
     "text": [
      "Epoch 1 of 3\n",
      "Batch 1 of 1\n",
      "Epoch 2 of 3\n",
      "Batch 1 of 1\n",
      "Epoch 3 of 3\n",
      "Batch 1 of 1\n"
     ]
    },
    {
     "data": {
      "text/html": [
       "<style>\n",
       "    table.wandb td:nth-child(1) { padding: 0 10px; text-align: left ; width: auto;} td:nth-child(2) {text-align: left ; width: 100%}\n",
       "    .wandb-row { display: flex; flex-direction: row; flex-wrap: wrap; justify-content: flex-start; width: 100% }\n",
       "    .wandb-col { display: flex; flex-direction: column; flex-basis: 100%; flex: 1; padding: 10px; }\n",
       "    </style>\n",
       "<div class=\"wandb-row\"><div class=\"wandb-col\"><h3>Run history:</h3><br/><table class=\"wandb\"><tr><td>loss</td><td>█▅▁</td></tr></table><br/></div><div class=\"wandb-col\"><h3>Run summary:</h3><br/><table class=\"wandb\"><tr><td>loss</td><td>0.53134</td></tr></table><br/></div></div>"
      ],
      "text/plain": [
       "<IPython.core.display.HTML object>"
      ]
     },
     "metadata": {},
     "output_type": "display_data"
    },
    {
     "data": {
      "text/html": [
       " View run <strong style=\"color:#cdcd00\">avg_pooling_projection_dim_24_commit_3799989</strong> at: <a href='https://wandb.ai/gurleenvasir0-me/mlx-w2-two-tower-search-finetuned-duh/runs/ogejg5tx' target=\"_blank\">https://wandb.ai/gurleenvasir0-me/mlx-w2-two-tower-search-finetuned-duh/runs/ogejg5tx</a><br/> View project at: <a href='https://wandb.ai/gurleenvasir0-me/mlx-w2-two-tower-search-finetuned-duh' target=\"_blank\">https://wandb.ai/gurleenvasir0-me/mlx-w2-two-tower-search-finetuned-duh</a><br/>Synced 5 W&B file(s), 0 media file(s), 0 artifact file(s) and 0 other file(s)"
      ],
      "text/plain": [
       "<IPython.core.display.HTML object>"
      ]
     },
     "metadata": {},
     "output_type": "display_data"
    },
    {
     "data": {
      "text/html": [
       "Find logs at: <code>./wandb/run-20241031_140621-ogejg5tx/logs</code>"
      ],
      "text/plain": [
       "<IPython.core.display.HTML object>"
      ]
     },
     "metadata": {},
     "output_type": "display_data"
    },
    {
     "data": {
      "text/html": [
       "Tracking run with wandb version 0.18.5"
      ],
      "text/plain": [
       "<IPython.core.display.HTML object>"
      ]
     },
     "metadata": {},
     "output_type": "display_data"
    },
    {
     "data": {
      "text/html": [
       "Run data is saved locally in <code>/home/g_byte/MLOPs/backend/fastapi/wandb/run-20241031_140626-zhw6iao2</code>"
      ],
      "text/plain": [
       "<IPython.core.display.HTML object>"
      ]
     },
     "metadata": {},
     "output_type": "display_data"
    },
    {
     "data": {
      "text/html": [
       "Syncing run <strong><a href='https://wandb.ai/gurleenvasir0-me/mlx-w2-two-tower-search-finetuned-duh/runs/zhw6iao2' target=\"_blank\">avg_pooling_projection_dim_48_commit_3799989</a></strong> to <a href='https://wandb.ai/gurleenvasir0-me/mlx-w2-two-tower-search-finetuned-duh' target=\"_blank\">Weights & Biases</a> (<a href='https://wandb.me/run' target=\"_blank\">docs</a>)<br/>"
      ],
      "text/plain": [
       "<IPython.core.display.HTML object>"
      ]
     },
     "metadata": {},
     "output_type": "display_data"
    },
    {
     "data": {
      "text/html": [
       " View project at <a href='https://wandb.ai/gurleenvasir0-me/mlx-w2-two-tower-search-finetuned-duh' target=\"_blank\">https://wandb.ai/gurleenvasir0-me/mlx-w2-two-tower-search-finetuned-duh</a>"
      ],
      "text/plain": [
       "<IPython.core.display.HTML object>"
      ]
     },
     "metadata": {},
     "output_type": "display_data"
    },
    {
     "data": {
      "text/html": [
       " View run at <a href='https://wandb.ai/gurleenvasir0-me/mlx-w2-two-tower-search-finetuned-duh/runs/zhw6iao2' target=\"_blank\">https://wandb.ai/gurleenvasir0-me/mlx-w2-two-tower-search-finetuned-duh/runs/zhw6iao2</a>"
      ],
      "text/plain": [
       "<IPython.core.display.HTML object>"
      ]
     },
     "metadata": {},
     "output_type": "display_data"
    },
    {
     "name": "stdout",
     "output_type": "stream",
     "text": [
      "Epoch 1 of 3\n",
      "Batch 1 of 1\n",
      "Epoch 2 of 3\n",
      "Batch 1 of 1\n",
      "Epoch 3 of 3\n",
      "Batch 1 of 1\n"
     ]
    },
    {
     "data": {
      "text/html": [
       "<style>\n",
       "    table.wandb td:nth-child(1) { padding: 0 10px; text-align: left ; width: auto;} td:nth-child(2) {text-align: left ; width: 100%}\n",
       "    .wandb-row { display: flex; flex-direction: row; flex-wrap: wrap; justify-content: flex-start; width: 100% }\n",
       "    .wandb-col { display: flex; flex-direction: column; flex-basis: 100%; flex: 1; padding: 10px; }\n",
       "    </style>\n",
       "<div class=\"wandb-row\"><div class=\"wandb-col\"><h3>Run history:</h3><br/><table class=\"wandb\"><tr><td>loss</td><td>█▄▁</td></tr></table><br/></div><div class=\"wandb-col\"><h3>Run summary:</h3><br/><table class=\"wandb\"><tr><td>loss</td><td>0.4844</td></tr></table><br/></div></div>"
      ],
      "text/plain": [
       "<IPython.core.display.HTML object>"
      ]
     },
     "metadata": {},
     "output_type": "display_data"
    },
    {
     "data": {
      "text/html": [
       " View run <strong style=\"color:#cdcd00\">avg_pooling_projection_dim_48_commit_3799989</strong> at: <a href='https://wandb.ai/gurleenvasir0-me/mlx-w2-two-tower-search-finetuned-duh/runs/zhw6iao2' target=\"_blank\">https://wandb.ai/gurleenvasir0-me/mlx-w2-two-tower-search-finetuned-duh/runs/zhw6iao2</a><br/> View project at: <a href='https://wandb.ai/gurleenvasir0-me/mlx-w2-two-tower-search-finetuned-duh' target=\"_blank\">https://wandb.ai/gurleenvasir0-me/mlx-w2-two-tower-search-finetuned-duh</a><br/>Synced 5 W&B file(s), 0 media file(s), 0 artifact file(s) and 0 other file(s)"
      ],
      "text/plain": [
       "<IPython.core.display.HTML object>"
      ]
     },
     "metadata": {},
     "output_type": "display_data"
    },
    {
     "data": {
      "text/html": [
       "Find logs at: <code>./wandb/run-20241031_140626-zhw6iao2/logs</code>"
      ],
      "text/plain": [
       "<IPython.core.display.HTML object>"
      ]
     },
     "metadata": {},
     "output_type": "display_data"
    },
    {
     "data": {
      "text/html": [
       "Tracking run with wandb version 0.18.5"
      ],
      "text/plain": [
       "<IPython.core.display.HTML object>"
      ]
     },
     "metadata": {},
     "output_type": "display_data"
    },
    {
     "data": {
      "text/html": [
       "Run data is saved locally in <code>/home/g_byte/MLOPs/backend/fastapi/wandb/run-20241031_140630-qijwwd6n</code>"
      ],
      "text/plain": [
       "<IPython.core.display.HTML object>"
      ]
     },
     "metadata": {},
     "output_type": "display_data"
    },
    {
     "data": {
      "text/html": [
       "Syncing run <strong><a href='https://wandb.ai/gurleenvasir0-me/mlx-w2-two-tower-search-finetuned-duh/runs/qijwwd6n' target=\"_blank\">avg_pooling_projection_dim_96_commit_3799989</a></strong> to <a href='https://wandb.ai/gurleenvasir0-me/mlx-w2-two-tower-search-finetuned-duh' target=\"_blank\">Weights & Biases</a> (<a href='https://wandb.me/run' target=\"_blank\">docs</a>)<br/>"
      ],
      "text/plain": [
       "<IPython.core.display.HTML object>"
      ]
     },
     "metadata": {},
     "output_type": "display_data"
    },
    {
     "data": {
      "text/html": [
       " View project at <a href='https://wandb.ai/gurleenvasir0-me/mlx-w2-two-tower-search-finetuned-duh' target=\"_blank\">https://wandb.ai/gurleenvasir0-me/mlx-w2-two-tower-search-finetuned-duh</a>"
      ],
      "text/plain": [
       "<IPython.core.display.HTML object>"
      ]
     },
     "metadata": {},
     "output_type": "display_data"
    },
    {
     "data": {
      "text/html": [
       " View run at <a href='https://wandb.ai/gurleenvasir0-me/mlx-w2-two-tower-search-finetuned-duh/runs/qijwwd6n' target=\"_blank\">https://wandb.ai/gurleenvasir0-me/mlx-w2-two-tower-search-finetuned-duh/runs/qijwwd6n</a>"
      ],
      "text/plain": [
       "<IPython.core.display.HTML object>"
      ]
     },
     "metadata": {},
     "output_type": "display_data"
    },
    {
     "name": "stdout",
     "output_type": "stream",
     "text": [
      "Epoch 1 of 3\n",
      "Batch 1 of 1\n",
      "Epoch 2 of 3\n",
      "Batch 1 of 1\n",
      "Epoch 3 of 3\n",
      "Batch 1 of 1\n"
     ]
    },
    {
     "data": {
      "text/html": [
       "<style>\n",
       "    table.wandb td:nth-child(1) { padding: 0 10px; text-align: left ; width: auto;} td:nth-child(2) {text-align: left ; width: 100%}\n",
       "    .wandb-row { display: flex; flex-direction: row; flex-wrap: wrap; justify-content: flex-start; width: 100% }\n",
       "    .wandb-col { display: flex; flex-direction: column; flex-basis: 100%; flex: 1; padding: 10px; }\n",
       "    </style>\n",
       "<div class=\"wandb-row\"><div class=\"wandb-col\"><h3>Run history:</h3><br/><table class=\"wandb\"><tr><td>loss</td><td>█▅▁</td></tr></table><br/></div><div class=\"wandb-col\"><h3>Run summary:</h3><br/><table class=\"wandb\"><tr><td>loss</td><td>0.49659</td></tr></table><br/></div></div>"
      ],
      "text/plain": [
       "<IPython.core.display.HTML object>"
      ]
     },
     "metadata": {},
     "output_type": "display_data"
    },
    {
     "data": {
      "text/html": [
       " View run <strong style=\"color:#cdcd00\">avg_pooling_projection_dim_96_commit_3799989</strong> at: <a href='https://wandb.ai/gurleenvasir0-me/mlx-w2-two-tower-search-finetuned-duh/runs/qijwwd6n' target=\"_blank\">https://wandb.ai/gurleenvasir0-me/mlx-w2-two-tower-search-finetuned-duh/runs/qijwwd6n</a><br/> View project at: <a href='https://wandb.ai/gurleenvasir0-me/mlx-w2-two-tower-search-finetuned-duh' target=\"_blank\">https://wandb.ai/gurleenvasir0-me/mlx-w2-two-tower-search-finetuned-duh</a><br/>Synced 5 W&B file(s), 0 media file(s), 0 artifact file(s) and 0 other file(s)"
      ],
      "text/plain": [
       "<IPython.core.display.HTML object>"
      ]
     },
     "metadata": {},
     "output_type": "display_data"
    },
    {
     "data": {
      "text/html": [
       "Find logs at: <code>./wandb/run-20241031_140630-qijwwd6n/logs</code>"
      ],
      "text/plain": [
       "<IPython.core.display.HTML object>"
      ]
     },
     "metadata": {},
     "output_type": "display_data"
    },
    {
     "data": {
      "application/vnd.jupyter.widget-view+json": {
       "model_id": "97dbc16bf79e4f5ba338b0a4b8c77533",
       "version_major": 2,
       "version_minor": 0
      },
      "text/plain": [
       "VBox(children=(Label(value='Waiting for wandb.init()...\\r'), FloatProgress(value=0.011115339355536788, max=1.0…"
      ]
     },
     "metadata": {},
     "output_type": "display_data"
    },
    {
     "data": {
      "text/html": [
       "Tracking run with wandb version 0.18.5"
      ],
      "text/plain": [
       "<IPython.core.display.HTML object>"
      ]
     },
     "metadata": {},
     "output_type": "display_data"
    },
    {
     "data": {
      "text/html": [
       "Run data is saved locally in <code>/home/g_byte/MLOPs/backend/fastapi/wandb/run-20241031_140633-ck54agu4</code>"
      ],
      "text/plain": [
       "<IPython.core.display.HTML object>"
      ]
     },
     "metadata": {},
     "output_type": "display_data"
    },
    {
     "data": {
      "text/html": [
       "Syncing run <strong><a href='https://wandb.ai/gurleenvasir0-me/mlx-w2-two-tower-search-finetuned-duh/runs/ck54agu4' target=\"_blank\">avg_pooling_projection_dim_192_commit_3799989</a></strong> to <a href='https://wandb.ai/gurleenvasir0-me/mlx-w2-two-tower-search-finetuned-duh' target=\"_blank\">Weights & Biases</a> (<a href='https://wandb.me/run' target=\"_blank\">docs</a>)<br/>"
      ],
      "text/plain": [
       "<IPython.core.display.HTML object>"
      ]
     },
     "metadata": {},
     "output_type": "display_data"
    },
    {
     "data": {
      "text/html": [
       " View project at <a href='https://wandb.ai/gurleenvasir0-me/mlx-w2-two-tower-search-finetuned-duh' target=\"_blank\">https://wandb.ai/gurleenvasir0-me/mlx-w2-two-tower-search-finetuned-duh</a>"
      ],
      "text/plain": [
       "<IPython.core.display.HTML object>"
      ]
     },
     "metadata": {},
     "output_type": "display_data"
    },
    {
     "data": {
      "text/html": [
       " View run at <a href='https://wandb.ai/gurleenvasir0-me/mlx-w2-two-tower-search-finetuned-duh/runs/ck54agu4' target=\"_blank\">https://wandb.ai/gurleenvasir0-me/mlx-w2-two-tower-search-finetuned-duh/runs/ck54agu4</a>"
      ],
      "text/plain": [
       "<IPython.core.display.HTML object>"
      ]
     },
     "metadata": {},
     "output_type": "display_data"
    },
    {
     "name": "stdout",
     "output_type": "stream",
     "text": [
      "Epoch 1 of 3\n",
      "Batch 1 of 1\n",
      "Epoch 2 of 3\n",
      "Batch 1 of 1\n",
      "Epoch 3 of 3\n",
      "Batch 1 of 1\n"
     ]
    },
    {
     "data": {
      "text/html": [
       "<style>\n",
       "    table.wandb td:nth-child(1) { padding: 0 10px; text-align: left ; width: auto;} td:nth-child(2) {text-align: left ; width: 100%}\n",
       "    .wandb-row { display: flex; flex-direction: row; flex-wrap: wrap; justify-content: flex-start; width: 100% }\n",
       "    .wandb-col { display: flex; flex-direction: column; flex-basis: 100%; flex: 1; padding: 10px; }\n",
       "    </style>\n",
       "<div class=\"wandb-row\"><div class=\"wandb-col\"><h3>Run history:</h3><br/><table class=\"wandb\"><tr><td>loss</td><td>█▅▁</td></tr></table><br/></div><div class=\"wandb-col\"><h3>Run summary:</h3><br/><table class=\"wandb\"><tr><td>loss</td><td>0.38821</td></tr></table><br/></div></div>"
      ],
      "text/plain": [
       "<IPython.core.display.HTML object>"
      ]
     },
     "metadata": {},
     "output_type": "display_data"
    },
    {
     "data": {
      "text/html": [
       " View run <strong style=\"color:#cdcd00\">avg_pooling_projection_dim_192_commit_3799989</strong> at: <a href='https://wandb.ai/gurleenvasir0-me/mlx-w2-two-tower-search-finetuned-duh/runs/ck54agu4' target=\"_blank\">https://wandb.ai/gurleenvasir0-me/mlx-w2-two-tower-search-finetuned-duh/runs/ck54agu4</a><br/> View project at: <a href='https://wandb.ai/gurleenvasir0-me/mlx-w2-two-tower-search-finetuned-duh' target=\"_blank\">https://wandb.ai/gurleenvasir0-me/mlx-w2-two-tower-search-finetuned-duh</a><br/>Synced 5 W&B file(s), 0 media file(s), 0 artifact file(s) and 0 other file(s)"
      ],
      "text/plain": [
       "<IPython.core.display.HTML object>"
      ]
     },
     "metadata": {},
     "output_type": "display_data"
    },
    {
     "data": {
      "text/html": [
       "Find logs at: <code>./wandb/run-20241031_140633-ck54agu4/logs</code>"
      ],
      "text/plain": [
       "<IPython.core.display.HTML object>"
      ]
     },
     "metadata": {},
     "output_type": "display_data"
    }
   ],
   "source": [
    "for projection_dim in projection_dim_sweep:\n",
    "    run_name = f\"avg_pooling_projection_dim_{projection_dim}_commit_3799989\"\n",
    "    model = TwoTowerModel(embedding_dim=EMBEDDING_DIM, \n",
    "                          projection_dim=projection_dim, \n",
    "                          embedding_layer=embedding_layer, \n",
    "                          margin=MARGIN)\n",
    "    optimizer = optim.Adam(model.parameters(), lr=LEARNING_RATE)\n",
    "\n",
    "    wandb.init(project=MODEL_NAME, name=run_name)\n",
    "    for epoch in range(NUM_EPOCHS):\n",
    "        print(f\"Epoch {epoch + 1} of {NUM_EPOCHS}\")\n",
    "        for batch_idx, batch in enumerate(dataloader):\n",
    "            if batch_idx % 1000 == 0:\n",
    "                print(f\"Batch {batch_idx + 1} of {len(dataloader)}\")\n",
    "            docs_rel, docs_irr, queries, docs_rel_mask, docs_irr_mask, query_mask = batch\n",
    "\n",
    "            similarity_rel = model(docs_rel, queries, doc_mask=docs_rel_mask, query_mask=query_mask)\n",
    "            similarity_irr = model(docs_irr, queries, doc_mask=docs_irr_mask, query_mask=query_mask)\n",
    "\n",
    "            loss = loss_fn(similarity_rel, similarity_irr, MARGIN)\n",
    "            optimizer.zero_grad()\n",
    "            loss.backward()\n",
    "            optimizer.step()\n",
    "            wandb.log({\"loss\": loss.item()})\n",
    "    wandb.finish()\n"
   ]
  },
  {
   "cell_type": "code",
   "execution_count": 21,
   "metadata": {},
   "outputs": [
    {
     "data": {
      "text/html": [
       "Tracking run with wandb version 0.18.5"
      ],
      "text/plain": [
       "<IPython.core.display.HTML object>"
      ]
     },
     "metadata": {},
     "output_type": "display_data"
    },
    {
     "data": {
      "text/html": [
       "Run data is saved locally in <code>/home/g_byte/MLOPs/backend/fastapi/wandb/run-20241031_140636-zzjptdjl</code>"
      ],
      "text/plain": [
       "<IPython.core.display.HTML object>"
      ]
     },
     "metadata": {},
     "output_type": "display_data"
    },
    {
     "data": {
      "text/html": [
       "Syncing run <strong><a href='https://wandb.ai/gurleenvasir0-me/mlx-w2-two-tower-search-finetuned-duh/runs/zzjptdjl' target=\"_blank\">avg_pooling_margin_0.1_commit_3799989</a></strong> to <a href='https://wandb.ai/gurleenvasir0-me/mlx-w2-two-tower-search-finetuned-duh' target=\"_blank\">Weights & Biases</a> (<a href='https://wandb.me/run' target=\"_blank\">docs</a>)<br/>"
      ],
      "text/plain": [
       "<IPython.core.display.HTML object>"
      ]
     },
     "metadata": {},
     "output_type": "display_data"
    },
    {
     "data": {
      "text/html": [
       " View project at <a href='https://wandb.ai/gurleenvasir0-me/mlx-w2-two-tower-search-finetuned-duh' target=\"_blank\">https://wandb.ai/gurleenvasir0-me/mlx-w2-two-tower-search-finetuned-duh</a>"
      ],
      "text/plain": [
       "<IPython.core.display.HTML object>"
      ]
     },
     "metadata": {},
     "output_type": "display_data"
    },
    {
     "data": {
      "text/html": [
       " View run at <a href='https://wandb.ai/gurleenvasir0-me/mlx-w2-two-tower-search-finetuned-duh/runs/zzjptdjl' target=\"_blank\">https://wandb.ai/gurleenvasir0-me/mlx-w2-two-tower-search-finetuned-duh/runs/zzjptdjl</a>"
      ],
      "text/plain": [
       "<IPython.core.display.HTML object>"
      ]
     },
     "metadata": {},
     "output_type": "display_data"
    },
    {
     "name": "stdout",
     "output_type": "stream",
     "text": [
      "Epoch 1 of 3\n",
      "Batch 1 of 1\n",
      "Epoch 2 of 3\n",
      "Batch 1 of 1\n",
      "Epoch 3 of 3\n",
      "Batch 1 of 1\n"
     ]
    },
    {
     "data": {
      "text/html": [
       "<style>\n",
       "    table.wandb td:nth-child(1) { padding: 0 10px; text-align: left ; width: auto;} td:nth-child(2) {text-align: left ; width: 100%}\n",
       "    .wandb-row { display: flex; flex-direction: row; flex-wrap: wrap; justify-content: flex-start; width: 100% }\n",
       "    .wandb-col { display: flex; flex-direction: column; flex-basis: 100%; flex: 1; padding: 10px; }\n",
       "    </style>\n",
       "<div class=\"wandb-row\"><div class=\"wandb-col\"><h3>Run history:</h3><br/><table class=\"wandb\"><tr><td>loss</td><td>█▅▁</td></tr></table><br/></div><div class=\"wandb-col\"><h3>Run summary:</h3><br/><table class=\"wandb\"><tr><td>loss</td><td>0.49616</td></tr></table><br/></div></div>"
      ],
      "text/plain": [
       "<IPython.core.display.HTML object>"
      ]
     },
     "metadata": {},
     "output_type": "display_data"
    },
    {
     "data": {
      "text/html": [
       " View run <strong style=\"color:#cdcd00\">avg_pooling_margin_0.1_commit_3799989</strong> at: <a href='https://wandb.ai/gurleenvasir0-me/mlx-w2-two-tower-search-finetuned-duh/runs/zzjptdjl' target=\"_blank\">https://wandb.ai/gurleenvasir0-me/mlx-w2-two-tower-search-finetuned-duh/runs/zzjptdjl</a><br/> View project at: <a href='https://wandb.ai/gurleenvasir0-me/mlx-w2-two-tower-search-finetuned-duh' target=\"_blank\">https://wandb.ai/gurleenvasir0-me/mlx-w2-two-tower-search-finetuned-duh</a><br/>Synced 5 W&B file(s), 0 media file(s), 0 artifact file(s) and 0 other file(s)"
      ],
      "text/plain": [
       "<IPython.core.display.HTML object>"
      ]
     },
     "metadata": {},
     "output_type": "display_data"
    },
    {
     "data": {
      "text/html": [
       "Find logs at: <code>./wandb/run-20241031_140636-zzjptdjl/logs</code>"
      ],
      "text/plain": [
       "<IPython.core.display.HTML object>"
      ]
     },
     "metadata": {},
     "output_type": "display_data"
    },
    {
     "data": {
      "text/html": [
       "Tracking run with wandb version 0.18.5"
      ],
      "text/plain": [
       "<IPython.core.display.HTML object>"
      ]
     },
     "metadata": {},
     "output_type": "display_data"
    },
    {
     "data": {
      "text/html": [
       "Run data is saved locally in <code>/home/g_byte/MLOPs/backend/fastapi/wandb/run-20241031_140640-kcdcpwar</code>"
      ],
      "text/plain": [
       "<IPython.core.display.HTML object>"
      ]
     },
     "metadata": {},
     "output_type": "display_data"
    },
    {
     "data": {
      "text/html": [
       "Syncing run <strong><a href='https://wandb.ai/gurleenvasir0-me/mlx-w2-two-tower-search-finetuned-duh/runs/kcdcpwar' target=\"_blank\">avg_pooling_margin_0.4_commit_3799989</a></strong> to <a href='https://wandb.ai/gurleenvasir0-me/mlx-w2-two-tower-search-finetuned-duh' target=\"_blank\">Weights & Biases</a> (<a href='https://wandb.me/run' target=\"_blank\">docs</a>)<br/>"
      ],
      "text/plain": [
       "<IPython.core.display.HTML object>"
      ]
     },
     "metadata": {},
     "output_type": "display_data"
    },
    {
     "data": {
      "text/html": [
       " View project at <a href='https://wandb.ai/gurleenvasir0-me/mlx-w2-two-tower-search-finetuned-duh' target=\"_blank\">https://wandb.ai/gurleenvasir0-me/mlx-w2-two-tower-search-finetuned-duh</a>"
      ],
      "text/plain": [
       "<IPython.core.display.HTML object>"
      ]
     },
     "metadata": {},
     "output_type": "display_data"
    },
    {
     "data": {
      "text/html": [
       " View run at <a href='https://wandb.ai/gurleenvasir0-me/mlx-w2-two-tower-search-finetuned-duh/runs/kcdcpwar' target=\"_blank\">https://wandb.ai/gurleenvasir0-me/mlx-w2-two-tower-search-finetuned-duh/runs/kcdcpwar</a>"
      ],
      "text/plain": [
       "<IPython.core.display.HTML object>"
      ]
     },
     "metadata": {},
     "output_type": "display_data"
    },
    {
     "name": "stdout",
     "output_type": "stream",
     "text": [
      "Epoch 1 of 3\n",
      "Batch 1 of 1\n",
      "Epoch 2 of 3\n",
      "Batch 1 of 1\n",
      "Epoch 3 of 3\n",
      "Batch 1 of 1\n"
     ]
    },
    {
     "data": {
      "text/html": [
       "<style>\n",
       "    table.wandb td:nth-child(1) { padding: 0 10px; text-align: left ; width: auto;} td:nth-child(2) {text-align: left ; width: 100%}\n",
       "    .wandb-row { display: flex; flex-direction: row; flex-wrap: wrap; justify-content: flex-start; width: 100% }\n",
       "    .wandb-col { display: flex; flex-direction: column; flex-basis: 100%; flex: 1; padding: 10px; }\n",
       "    </style>\n",
       "<div class=\"wandb-row\"><div class=\"wandb-col\"><h3>Run history:</h3><br/><table class=\"wandb\"><tr><td>loss</td><td>█▄▁</td></tr></table><br/></div><div class=\"wandb-col\"><h3>Run summary:</h3><br/><table class=\"wandb\"><tr><td>loss</td><td>0.58037</td></tr></table><br/></div></div>"
      ],
      "text/plain": [
       "<IPython.core.display.HTML object>"
      ]
     },
     "metadata": {},
     "output_type": "display_data"
    },
    {
     "data": {
      "text/html": [
       " View run <strong style=\"color:#cdcd00\">avg_pooling_margin_0.4_commit_3799989</strong> at: <a href='https://wandb.ai/gurleenvasir0-me/mlx-w2-two-tower-search-finetuned-duh/runs/kcdcpwar' target=\"_blank\">https://wandb.ai/gurleenvasir0-me/mlx-w2-two-tower-search-finetuned-duh/runs/kcdcpwar</a><br/> View project at: <a href='https://wandb.ai/gurleenvasir0-me/mlx-w2-two-tower-search-finetuned-duh' target=\"_blank\">https://wandb.ai/gurleenvasir0-me/mlx-w2-two-tower-search-finetuned-duh</a><br/>Synced 5 W&B file(s), 0 media file(s), 0 artifact file(s) and 0 other file(s)"
      ],
      "text/plain": [
       "<IPython.core.display.HTML object>"
      ]
     },
     "metadata": {},
     "output_type": "display_data"
    },
    {
     "data": {
      "text/html": [
       "Find logs at: <code>./wandb/run-20241031_140640-kcdcpwar/logs</code>"
      ],
      "text/plain": [
       "<IPython.core.display.HTML object>"
      ]
     },
     "metadata": {},
     "output_type": "display_data"
    },
    {
     "data": {
      "text/html": [
       "Tracking run with wandb version 0.18.5"
      ],
      "text/plain": [
       "<IPython.core.display.HTML object>"
      ]
     },
     "metadata": {},
     "output_type": "display_data"
    },
    {
     "data": {
      "text/html": [
       "Run data is saved locally in <code>/home/g_byte/MLOPs/backend/fastapi/wandb/run-20241031_140643-sf6j5sqw</code>"
      ],
      "text/plain": [
       "<IPython.core.display.HTML object>"
      ]
     },
     "metadata": {},
     "output_type": "display_data"
    },
    {
     "data": {
      "text/html": [
       "Syncing run <strong><a href='https://wandb.ai/gurleenvasir0-me/mlx-w2-two-tower-search-finetuned-duh/runs/sf6j5sqw' target=\"_blank\">avg_pooling_margin_0.7_commit_3799989</a></strong> to <a href='https://wandb.ai/gurleenvasir0-me/mlx-w2-two-tower-search-finetuned-duh' target=\"_blank\">Weights & Biases</a> (<a href='https://wandb.me/run' target=\"_blank\">docs</a>)<br/>"
      ],
      "text/plain": [
       "<IPython.core.display.HTML object>"
      ]
     },
     "metadata": {},
     "output_type": "display_data"
    },
    {
     "data": {
      "text/html": [
       " View project at <a href='https://wandb.ai/gurleenvasir0-me/mlx-w2-two-tower-search-finetuned-duh' target=\"_blank\">https://wandb.ai/gurleenvasir0-me/mlx-w2-two-tower-search-finetuned-duh</a>"
      ],
      "text/plain": [
       "<IPython.core.display.HTML object>"
      ]
     },
     "metadata": {},
     "output_type": "display_data"
    },
    {
     "data": {
      "text/html": [
       " View run at <a href='https://wandb.ai/gurleenvasir0-me/mlx-w2-two-tower-search-finetuned-duh/runs/sf6j5sqw' target=\"_blank\">https://wandb.ai/gurleenvasir0-me/mlx-w2-two-tower-search-finetuned-duh/runs/sf6j5sqw</a>"
      ],
      "text/plain": [
       "<IPython.core.display.HTML object>"
      ]
     },
     "metadata": {},
     "output_type": "display_data"
    },
    {
     "name": "stdout",
     "output_type": "stream",
     "text": [
      "Epoch 1 of 3\n",
      "Batch 1 of 1\n",
      "Epoch 2 of 3\n",
      "Batch 1 of 1\n",
      "Epoch 3 of 3\n",
      "Batch 1 of 1\n"
     ]
    },
    {
     "data": {
      "text/html": [
       "<style>\n",
       "    table.wandb td:nth-child(1) { padding: 0 10px; text-align: left ; width: auto;} td:nth-child(2) {text-align: left ; width: 100%}\n",
       "    .wandb-row { display: flex; flex-direction: row; flex-wrap: wrap; justify-content: flex-start; width: 100% }\n",
       "    .wandb-col { display: flex; flex-direction: column; flex-basis: 100%; flex: 1; padding: 10px; }\n",
       "    </style>\n",
       "<div class=\"wandb-row\"><div class=\"wandb-col\"><h3>Run history:</h3><br/><table class=\"wandb\"><tr><td>loss</td><td>█▄▁</td></tr></table><br/></div><div class=\"wandb-col\"><h3>Run summary:</h3><br/><table class=\"wandb\"><tr><td>loss</td><td>0.48992</td></tr></table><br/></div></div>"
      ],
      "text/plain": [
       "<IPython.core.display.HTML object>"
      ]
     },
     "metadata": {},
     "output_type": "display_data"
    },
    {
     "data": {
      "text/html": [
       " View run <strong style=\"color:#cdcd00\">avg_pooling_margin_0.7_commit_3799989</strong> at: <a href='https://wandb.ai/gurleenvasir0-me/mlx-w2-two-tower-search-finetuned-duh/runs/sf6j5sqw' target=\"_blank\">https://wandb.ai/gurleenvasir0-me/mlx-w2-two-tower-search-finetuned-duh/runs/sf6j5sqw</a><br/> View project at: <a href='https://wandb.ai/gurleenvasir0-me/mlx-w2-two-tower-search-finetuned-duh' target=\"_blank\">https://wandb.ai/gurleenvasir0-me/mlx-w2-two-tower-search-finetuned-duh</a><br/>Synced 5 W&B file(s), 0 media file(s), 0 artifact file(s) and 0 other file(s)"
      ],
      "text/plain": [
       "<IPython.core.display.HTML object>"
      ]
     },
     "metadata": {},
     "output_type": "display_data"
    },
    {
     "data": {
      "text/html": [
       "Find logs at: <code>./wandb/run-20241031_140643-sf6j5sqw/logs</code>"
      ],
      "text/plain": [
       "<IPython.core.display.HTML object>"
      ]
     },
     "metadata": {},
     "output_type": "display_data"
    },
    {
     "data": {
      "text/html": [
       "Tracking run with wandb version 0.18.5"
      ],
      "text/plain": [
       "<IPython.core.display.HTML object>"
      ]
     },
     "metadata": {},
     "output_type": "display_data"
    },
    {
     "data": {
      "text/html": [
       "Run data is saved locally in <code>/home/g_byte/MLOPs/backend/fastapi/wandb/run-20241031_140646-hsa1zvuj</code>"
      ],
      "text/plain": [
       "<IPython.core.display.HTML object>"
      ]
     },
     "metadata": {},
     "output_type": "display_data"
    },
    {
     "data": {
      "text/html": [
       "Syncing run <strong><a href='https://wandb.ai/gurleenvasir0-me/mlx-w2-two-tower-search-finetuned-duh/runs/hsa1zvuj' target=\"_blank\">avg_pooling_margin_1.0_commit_3799989</a></strong> to <a href='https://wandb.ai/gurleenvasir0-me/mlx-w2-two-tower-search-finetuned-duh' target=\"_blank\">Weights & Biases</a> (<a href='https://wandb.me/run' target=\"_blank\">docs</a>)<br/>"
      ],
      "text/plain": [
       "<IPython.core.display.HTML object>"
      ]
     },
     "metadata": {},
     "output_type": "display_data"
    },
    {
     "data": {
      "text/html": [
       " View project at <a href='https://wandb.ai/gurleenvasir0-me/mlx-w2-two-tower-search-finetuned-duh' target=\"_blank\">https://wandb.ai/gurleenvasir0-me/mlx-w2-two-tower-search-finetuned-duh</a>"
      ],
      "text/plain": [
       "<IPython.core.display.HTML object>"
      ]
     },
     "metadata": {},
     "output_type": "display_data"
    },
    {
     "data": {
      "text/html": [
       " View run at <a href='https://wandb.ai/gurleenvasir0-me/mlx-w2-two-tower-search-finetuned-duh/runs/hsa1zvuj' target=\"_blank\">https://wandb.ai/gurleenvasir0-me/mlx-w2-two-tower-search-finetuned-duh/runs/hsa1zvuj</a>"
      ],
      "text/plain": [
       "<IPython.core.display.HTML object>"
      ]
     },
     "metadata": {},
     "output_type": "display_data"
    },
    {
     "name": "stdout",
     "output_type": "stream",
     "text": [
      "Epoch 1 of 3\n",
      "Batch 1 of 1\n",
      "Epoch 2 of 3\n",
      "Batch 1 of 1\n",
      "Epoch 3 of 3\n",
      "Batch 1 of 1\n"
     ]
    },
    {
     "data": {
      "text/html": [
       "<style>\n",
       "    table.wandb td:nth-child(1) { padding: 0 10px; text-align: left ; width: auto;} td:nth-child(2) {text-align: left ; width: 100%}\n",
       "    .wandb-row { display: flex; flex-direction: row; flex-wrap: wrap; justify-content: flex-start; width: 100% }\n",
       "    .wandb-col { display: flex; flex-direction: column; flex-basis: 100%; flex: 1; padding: 10px; }\n",
       "    </style>\n",
       "<div class=\"wandb-row\"><div class=\"wandb-col\"><h3>Run history:</h3><br/><table class=\"wandb\"><tr><td>loss</td><td>█▅▁</td></tr></table><br/></div><div class=\"wandb-col\"><h3>Run summary:</h3><br/><table class=\"wandb\"><tr><td>loss</td><td>0.53388</td></tr></table><br/></div></div>"
      ],
      "text/plain": [
       "<IPython.core.display.HTML object>"
      ]
     },
     "metadata": {},
     "output_type": "display_data"
    },
    {
     "data": {
      "text/html": [
       " View run <strong style=\"color:#cdcd00\">avg_pooling_margin_1.0_commit_3799989</strong> at: <a href='https://wandb.ai/gurleenvasir0-me/mlx-w2-two-tower-search-finetuned-duh/runs/hsa1zvuj' target=\"_blank\">https://wandb.ai/gurleenvasir0-me/mlx-w2-two-tower-search-finetuned-duh/runs/hsa1zvuj</a><br/> View project at: <a href='https://wandb.ai/gurleenvasir0-me/mlx-w2-two-tower-search-finetuned-duh' target=\"_blank\">https://wandb.ai/gurleenvasir0-me/mlx-w2-two-tower-search-finetuned-duh</a><br/>Synced 5 W&B file(s), 0 media file(s), 0 artifact file(s) and 0 other file(s)"
      ],
      "text/plain": [
       "<IPython.core.display.HTML object>"
      ]
     },
     "metadata": {},
     "output_type": "display_data"
    },
    {
     "data": {
      "text/html": [
       "Find logs at: <code>./wandb/run-20241031_140646-hsa1zvuj/logs</code>"
      ],
      "text/plain": [
       "<IPython.core.display.HTML object>"
      ]
     },
     "metadata": {},
     "output_type": "display_data"
    }
   ],
   "source": [
    "for margin in margin_sweep:\n",
    "    run_name = f\"avg_pooling_margin_{margin}_commit_3799989\"\n",
    "    model = TwoTowerModel(embedding_dim=EMBEDDING_DIM, projection_dim=PROJECTION_DIM, embedding_layer=embedding_layer, margin=margin)\n",
    "    optimizer = optim.Adam(model.parameters(), lr=LEARNING_RATE)\n",
    "\n",
    "    wandb.init(project=MODEL_NAME, name=run_name)\n",
    "    for epoch in range(NUM_EPOCHS):\n",
    "        print(f\"Epoch {epoch + 1} of {NUM_EPOCHS}\")\n",
    "        for batch_idx, batch in enumerate(dataloader):\n",
    "            if batch_idx % 1000 == 0:\n",
    "                print(f\"Batch {batch_idx + 1} of {len(dataloader)}\")\n",
    "            docs_rel, docs_irr, queries, docs_rel_mask, docs_irr_mask, query_mask = batch\n",
    "\n",
    "            similarity_rel = model(docs_rel, queries, doc_mask=docs_rel_mask, query_mask=query_mask)\n",
    "            similarity_irr = model(docs_irr, queries, doc_mask=docs_irr_mask, query_mask=query_mask)\n",
    "\n",
    "            loss = loss_fn(similarity_rel, similarity_irr, MARGIN)\n",
    "            optimizer.zero_grad()\n",
    "            loss.backward()\n",
    "            optimizer.step()\n",
    "            wandb.log({\"loss\": loss.item()})\n",
    "        save_checkpoint(model, epoch, MODEL_NAME)\n",
    "        \n",
    "    wandb.finish()\n"
   ]
  },
  {
   "cell_type": "code",
   "execution_count": 22,
   "metadata": {},
   "outputs": [
    {
     "data": {
      "text/html": [
       "Tracking run with wandb version 0.18.5"
      ],
      "text/plain": [
       "<IPython.core.display.HTML object>"
      ]
     },
     "metadata": {},
     "output_type": "display_data"
    },
    {
     "data": {
      "text/html": [
       "Run data is saved locally in <code>/home/g_byte/MLOPs/backend/fastapi/wandb/run-20241031_140650-w16otjk7</code>"
      ],
      "text/plain": [
       "<IPython.core.display.HTML object>"
      ]
     },
     "metadata": {},
     "output_type": "display_data"
    },
    {
     "data": {
      "text/html": [
       "Syncing run <strong><a href='https://wandb.ai/gurleenvasir0-me/mlx-w2-two-tower-search-finetuned-duh/runs/w16otjk7' target=\"_blank\">avg_pooling_learning_rate_1e-10_commit_3799989</a></strong> to <a href='https://wandb.ai/gurleenvasir0-me/mlx-w2-two-tower-search-finetuned-duh' target=\"_blank\">Weights & Biases</a> (<a href='https://wandb.me/run' target=\"_blank\">docs</a>)<br/>"
      ],
      "text/plain": [
       "<IPython.core.display.HTML object>"
      ]
     },
     "metadata": {},
     "output_type": "display_data"
    },
    {
     "data": {
      "text/html": [
       " View project at <a href='https://wandb.ai/gurleenvasir0-me/mlx-w2-two-tower-search-finetuned-duh' target=\"_blank\">https://wandb.ai/gurleenvasir0-me/mlx-w2-two-tower-search-finetuned-duh</a>"
      ],
      "text/plain": [
       "<IPython.core.display.HTML object>"
      ]
     },
     "metadata": {},
     "output_type": "display_data"
    },
    {
     "data": {
      "text/html": [
       " View run at <a href='https://wandb.ai/gurleenvasir0-me/mlx-w2-two-tower-search-finetuned-duh/runs/w16otjk7' target=\"_blank\">https://wandb.ai/gurleenvasir0-me/mlx-w2-two-tower-search-finetuned-duh/runs/w16otjk7</a>"
      ],
      "text/plain": [
       "<IPython.core.display.HTML object>"
      ]
     },
     "metadata": {},
     "output_type": "display_data"
    },
    {
     "name": "stdout",
     "output_type": "stream",
     "text": [
      "Learning Rate: 1e-10\n",
      "Epoch 1 of 3\n",
      "E1: Batch 1 of 1\n",
      "Learning Rate: 1e-10\n",
      "Epoch 2 of 3\n",
      "E2: Batch 1 of 1\n",
      "Learning Rate: 1e-10\n",
      "Epoch 3 of 3\n",
      "E3: Batch 1 of 1\n"
     ]
    },
    {
     "data": {
      "text/html": [
       "<style>\n",
       "    table.wandb td:nth-child(1) { padding: 0 10px; text-align: left ; width: auto;} td:nth-child(2) {text-align: left ; width: 100%}\n",
       "    .wandb-row { display: flex; flex-direction: row; flex-wrap: wrap; justify-content: flex-start; width: 100% }\n",
       "    .wandb-col { display: flex; flex-direction: column; flex-basis: 100%; flex: 1; padding: 10px; }\n",
       "    </style>\n",
       "<div class=\"wandb-row\"><div class=\"wandb-col\"><h3>Run history:</h3><br/><table class=\"wandb\"><tr><td>loss</td><td>▁▁▁</td></tr></table><br/></div><div class=\"wandb-col\"><h3>Run summary:</h3><br/><table class=\"wandb\"><tr><td>loss</td><td>0.47114</td></tr></table><br/></div></div>"
      ],
      "text/plain": [
       "<IPython.core.display.HTML object>"
      ]
     },
     "metadata": {},
     "output_type": "display_data"
    },
    {
     "data": {
      "text/html": [
       " View run <strong style=\"color:#cdcd00\">avg_pooling_learning_rate_1e-10_commit_3799989</strong> at: <a href='https://wandb.ai/gurleenvasir0-me/mlx-w2-two-tower-search-finetuned-duh/runs/w16otjk7' target=\"_blank\">https://wandb.ai/gurleenvasir0-me/mlx-w2-two-tower-search-finetuned-duh/runs/w16otjk7</a><br/> View project at: <a href='https://wandb.ai/gurleenvasir0-me/mlx-w2-two-tower-search-finetuned-duh' target=\"_blank\">https://wandb.ai/gurleenvasir0-me/mlx-w2-two-tower-search-finetuned-duh</a><br/>Synced 5 W&B file(s), 0 media file(s), 0 artifact file(s) and 0 other file(s)"
      ],
      "text/plain": [
       "<IPython.core.display.HTML object>"
      ]
     },
     "metadata": {},
     "output_type": "display_data"
    },
    {
     "data": {
      "text/html": [
       "Find logs at: <code>./wandb/run-20241031_140650-w16otjk7/logs</code>"
      ],
      "text/plain": [
       "<IPython.core.display.HTML object>"
      ]
     },
     "metadata": {},
     "output_type": "display_data"
    },
    {
     "data": {
      "application/vnd.jupyter.widget-view+json": {
       "model_id": "9071db27a21c401b84c58b5aa60eb313",
       "version_major": 2,
       "version_minor": 0
      },
      "text/plain": [
       "VBox(children=(Label(value='Waiting for wandb.init()...\\r'), FloatProgress(value=0.011113144077777784, max=1.0…"
      ]
     },
     "metadata": {},
     "output_type": "display_data"
    },
    {
     "data": {
      "text/html": [
       "Tracking run with wandb version 0.18.5"
      ],
      "text/plain": [
       "<IPython.core.display.HTML object>"
      ]
     },
     "metadata": {},
     "output_type": "display_data"
    },
    {
     "data": {
      "text/html": [
       "Run data is saved locally in <code>/home/g_byte/MLOPs/backend/fastapi/wandb/run-20241031_140653-xkhwo9ul</code>"
      ],
      "text/plain": [
       "<IPython.core.display.HTML object>"
      ]
     },
     "metadata": {},
     "output_type": "display_data"
    },
    {
     "data": {
      "text/html": [
       "Syncing run <strong><a href='https://wandb.ai/gurleenvasir0-me/mlx-w2-two-tower-search-finetuned-duh/runs/xkhwo9ul' target=\"_blank\">avg_pooling_learning_rate_1e-09_commit_3799989</a></strong> to <a href='https://wandb.ai/gurleenvasir0-me/mlx-w2-two-tower-search-finetuned-duh' target=\"_blank\">Weights & Biases</a> (<a href='https://wandb.me/run' target=\"_blank\">docs</a>)<br/>"
      ],
      "text/plain": [
       "<IPython.core.display.HTML object>"
      ]
     },
     "metadata": {},
     "output_type": "display_data"
    },
    {
     "data": {
      "text/html": [
       " View project at <a href='https://wandb.ai/gurleenvasir0-me/mlx-w2-two-tower-search-finetuned-duh' target=\"_blank\">https://wandb.ai/gurleenvasir0-me/mlx-w2-two-tower-search-finetuned-duh</a>"
      ],
      "text/plain": [
       "<IPython.core.display.HTML object>"
      ]
     },
     "metadata": {},
     "output_type": "display_data"
    },
    {
     "data": {
      "text/html": [
       " View run at <a href='https://wandb.ai/gurleenvasir0-me/mlx-w2-two-tower-search-finetuned-duh/runs/xkhwo9ul' target=\"_blank\">https://wandb.ai/gurleenvasir0-me/mlx-w2-two-tower-search-finetuned-duh/runs/xkhwo9ul</a>"
      ],
      "text/plain": [
       "<IPython.core.display.HTML object>"
      ]
     },
     "metadata": {},
     "output_type": "display_data"
    },
    {
     "name": "stdout",
     "output_type": "stream",
     "text": [
      "Learning Rate: 1e-09\n",
      "Epoch 1 of 3\n",
      "E1: Batch 1 of 1\n",
      "Learning Rate: 1e-09\n",
      "Epoch 2 of 3\n",
      "E2: Batch 1 of 1\n",
      "Learning Rate: 1e-09\n",
      "Epoch 3 of 3\n",
      "E3: Batch 1 of 1\n"
     ]
    },
    {
     "data": {
      "text/html": [
       "<style>\n",
       "    table.wandb td:nth-child(1) { padding: 0 10px; text-align: left ; width: auto;} td:nth-child(2) {text-align: left ; width: 100%}\n",
       "    .wandb-row { display: flex; flex-direction: row; flex-wrap: wrap; justify-content: flex-start; width: 100% }\n",
       "    .wandb-col { display: flex; flex-direction: column; flex-basis: 100%; flex: 1; padding: 10px; }\n",
       "    </style>\n",
       "<div class=\"wandb-row\"><div class=\"wandb-col\"><h3>Run history:</h3><br/><table class=\"wandb\"><tr><td>loss</td><td>█▃▁</td></tr></table><br/></div><div class=\"wandb-col\"><h3>Run summary:</h3><br/><table class=\"wandb\"><tr><td>loss</td><td>0.4461</td></tr></table><br/></div></div>"
      ],
      "text/plain": [
       "<IPython.core.display.HTML object>"
      ]
     },
     "metadata": {},
     "output_type": "display_data"
    },
    {
     "data": {
      "text/html": [
       " View run <strong style=\"color:#cdcd00\">avg_pooling_learning_rate_1e-09_commit_3799989</strong> at: <a href='https://wandb.ai/gurleenvasir0-me/mlx-w2-two-tower-search-finetuned-duh/runs/xkhwo9ul' target=\"_blank\">https://wandb.ai/gurleenvasir0-me/mlx-w2-two-tower-search-finetuned-duh/runs/xkhwo9ul</a><br/> View project at: <a href='https://wandb.ai/gurleenvasir0-me/mlx-w2-two-tower-search-finetuned-duh' target=\"_blank\">https://wandb.ai/gurleenvasir0-me/mlx-w2-two-tower-search-finetuned-duh</a><br/>Synced 5 W&B file(s), 0 media file(s), 0 artifact file(s) and 0 other file(s)"
      ],
      "text/plain": [
       "<IPython.core.display.HTML object>"
      ]
     },
     "metadata": {},
     "output_type": "display_data"
    },
    {
     "data": {
      "text/html": [
       "Find logs at: <code>./wandb/run-20241031_140653-xkhwo9ul/logs</code>"
      ],
      "text/plain": [
       "<IPython.core.display.HTML object>"
      ]
     },
     "metadata": {},
     "output_type": "display_data"
    },
    {
     "data": {
      "text/html": [
       "Tracking run with wandb version 0.18.5"
      ],
      "text/plain": [
       "<IPython.core.display.HTML object>"
      ]
     },
     "metadata": {},
     "output_type": "display_data"
    },
    {
     "data": {
      "text/html": [
       "Run data is saved locally in <code>/home/g_byte/MLOPs/backend/fastapi/wandb/run-20241031_140657-9dogwcrm</code>"
      ],
      "text/plain": [
       "<IPython.core.display.HTML object>"
      ]
     },
     "metadata": {},
     "output_type": "display_data"
    },
    {
     "data": {
      "text/html": [
       "Syncing run <strong><a href='https://wandb.ai/gurleenvasir0-me/mlx-w2-two-tower-search-finetuned-duh/runs/9dogwcrm' target=\"_blank\">avg_pooling_learning_rate_1e-08_commit_3799989</a></strong> to <a href='https://wandb.ai/gurleenvasir0-me/mlx-w2-two-tower-search-finetuned-duh' target=\"_blank\">Weights & Biases</a> (<a href='https://wandb.me/run' target=\"_blank\">docs</a>)<br/>"
      ],
      "text/plain": [
       "<IPython.core.display.HTML object>"
      ]
     },
     "metadata": {},
     "output_type": "display_data"
    },
    {
     "data": {
      "text/html": [
       " View project at <a href='https://wandb.ai/gurleenvasir0-me/mlx-w2-two-tower-search-finetuned-duh' target=\"_blank\">https://wandb.ai/gurleenvasir0-me/mlx-w2-two-tower-search-finetuned-duh</a>"
      ],
      "text/plain": [
       "<IPython.core.display.HTML object>"
      ]
     },
     "metadata": {},
     "output_type": "display_data"
    },
    {
     "data": {
      "text/html": [
       " View run at <a href='https://wandb.ai/gurleenvasir0-me/mlx-w2-two-tower-search-finetuned-duh/runs/9dogwcrm' target=\"_blank\">https://wandb.ai/gurleenvasir0-me/mlx-w2-two-tower-search-finetuned-duh/runs/9dogwcrm</a>"
      ],
      "text/plain": [
       "<IPython.core.display.HTML object>"
      ]
     },
     "metadata": {},
     "output_type": "display_data"
    },
    {
     "name": "stdout",
     "output_type": "stream",
     "text": [
      "Learning Rate: 1e-08\n",
      "Epoch 1 of 3\n",
      "E1: Batch 1 of 1\n",
      "Learning Rate: 1e-08\n",
      "Epoch 2 of 3\n",
      "E2: Batch 1 of 1\n",
      "Learning Rate: 1e-08\n",
      "Epoch 3 of 3\n",
      "E3: Batch 1 of 1\n"
     ]
    },
    {
     "data": {
      "text/html": [
       "<style>\n",
       "    table.wandb td:nth-child(1) { padding: 0 10px; text-align: left ; width: auto;} td:nth-child(2) {text-align: left ; width: 100%}\n",
       "    .wandb-row { display: flex; flex-direction: row; flex-wrap: wrap; justify-content: flex-start; width: 100% }\n",
       "    .wandb-col { display: flex; flex-direction: column; flex-basis: 100%; flex: 1; padding: 10px; }\n",
       "    </style>\n",
       "<div class=\"wandb-row\"><div class=\"wandb-col\"><h3>Run history:</h3><br/><table class=\"wandb\"><tr><td>loss</td><td>█▄▁</td></tr></table><br/></div><div class=\"wandb-col\"><h3>Run summary:</h3><br/><table class=\"wandb\"><tr><td>loss</td><td>0.47131</td></tr></table><br/></div></div>"
      ],
      "text/plain": [
       "<IPython.core.display.HTML object>"
      ]
     },
     "metadata": {},
     "output_type": "display_data"
    },
    {
     "data": {
      "text/html": [
       " View run <strong style=\"color:#cdcd00\">avg_pooling_learning_rate_1e-08_commit_3799989</strong> at: <a href='https://wandb.ai/gurleenvasir0-me/mlx-w2-two-tower-search-finetuned-duh/runs/9dogwcrm' target=\"_blank\">https://wandb.ai/gurleenvasir0-me/mlx-w2-two-tower-search-finetuned-duh/runs/9dogwcrm</a><br/> View project at: <a href='https://wandb.ai/gurleenvasir0-me/mlx-w2-two-tower-search-finetuned-duh' target=\"_blank\">https://wandb.ai/gurleenvasir0-me/mlx-w2-two-tower-search-finetuned-duh</a><br/>Synced 5 W&B file(s), 0 media file(s), 0 artifact file(s) and 0 other file(s)"
      ],
      "text/plain": [
       "<IPython.core.display.HTML object>"
      ]
     },
     "metadata": {},
     "output_type": "display_data"
    },
    {
     "data": {
      "text/html": [
       "Find logs at: <code>./wandb/run-20241031_140657-9dogwcrm/logs</code>"
      ],
      "text/plain": [
       "<IPython.core.display.HTML object>"
      ]
     },
     "metadata": {},
     "output_type": "display_data"
    },
    {
     "data": {
      "application/vnd.jupyter.widget-view+json": {
       "model_id": "f6d3420ba05140768dcafa37d58185a4",
       "version_major": 2,
       "version_minor": 0
      },
      "text/plain": [
       "VBox(children=(Label(value='Waiting for wandb.init()...\\r'), FloatProgress(value=0.011112932699971781, max=1.0…"
      ]
     },
     "metadata": {},
     "output_type": "display_data"
    },
    {
     "data": {
      "text/html": [
       "Tracking run with wandb version 0.18.5"
      ],
      "text/plain": [
       "<IPython.core.display.HTML object>"
      ]
     },
     "metadata": {},
     "output_type": "display_data"
    },
    {
     "data": {
      "text/html": [
       "Run data is saved locally in <code>/home/g_byte/MLOPs/backend/fastapi/wandb/run-20241031_140700-pxktoxir</code>"
      ],
      "text/plain": [
       "<IPython.core.display.HTML object>"
      ]
     },
     "metadata": {},
     "output_type": "display_data"
    },
    {
     "data": {
      "text/html": [
       "Syncing run <strong><a href='https://wandb.ai/gurleenvasir0-me/mlx-w2-two-tower-search-finetuned-duh/runs/pxktoxir' target=\"_blank\">avg_pooling_learning_rate_1e-07_commit_3799989</a></strong> to <a href='https://wandb.ai/gurleenvasir0-me/mlx-w2-two-tower-search-finetuned-duh' target=\"_blank\">Weights & Biases</a> (<a href='https://wandb.me/run' target=\"_blank\">docs</a>)<br/>"
      ],
      "text/plain": [
       "<IPython.core.display.HTML object>"
      ]
     },
     "metadata": {},
     "output_type": "display_data"
    },
    {
     "data": {
      "text/html": [
       " View project at <a href='https://wandb.ai/gurleenvasir0-me/mlx-w2-two-tower-search-finetuned-duh' target=\"_blank\">https://wandb.ai/gurleenvasir0-me/mlx-w2-two-tower-search-finetuned-duh</a>"
      ],
      "text/plain": [
       "<IPython.core.display.HTML object>"
      ]
     },
     "metadata": {},
     "output_type": "display_data"
    },
    {
     "data": {
      "text/html": [
       " View run at <a href='https://wandb.ai/gurleenvasir0-me/mlx-w2-two-tower-search-finetuned-duh/runs/pxktoxir' target=\"_blank\">https://wandb.ai/gurleenvasir0-me/mlx-w2-two-tower-search-finetuned-duh/runs/pxktoxir</a>"
      ],
      "text/plain": [
       "<IPython.core.display.HTML object>"
      ]
     },
     "metadata": {},
     "output_type": "display_data"
    },
    {
     "name": "stdout",
     "output_type": "stream",
     "text": [
      "Learning Rate: 1e-07\n",
      "Epoch 1 of 3\n",
      "E1: Batch 1 of 1\n",
      "Learning Rate: 1e-07\n",
      "Epoch 2 of 3\n",
      "E2: Batch 1 of 1\n",
      "Learning Rate: 1e-07\n",
      "Epoch 3 of 3\n",
      "E3: Batch 1 of 1\n"
     ]
    },
    {
     "data": {
      "text/html": [
       "<style>\n",
       "    table.wandb td:nth-child(1) { padding: 0 10px; text-align: left ; width: auto;} td:nth-child(2) {text-align: left ; width: 100%}\n",
       "    .wandb-row { display: flex; flex-direction: row; flex-wrap: wrap; justify-content: flex-start; width: 100% }\n",
       "    .wandb-col { display: flex; flex-direction: column; flex-basis: 100%; flex: 1; padding: 10px; }\n",
       "    </style>\n",
       "<div class=\"wandb-row\"><div class=\"wandb-col\"><h3>Run history:</h3><br/><table class=\"wandb\"><tr><td>loss</td><td>█▅▁</td></tr></table><br/></div><div class=\"wandb-col\"><h3>Run summary:</h3><br/><table class=\"wandb\"><tr><td>loss</td><td>0.50482</td></tr></table><br/></div></div>"
      ],
      "text/plain": [
       "<IPython.core.display.HTML object>"
      ]
     },
     "metadata": {},
     "output_type": "display_data"
    },
    {
     "data": {
      "text/html": [
       " View run <strong style=\"color:#cdcd00\">avg_pooling_learning_rate_1e-07_commit_3799989</strong> at: <a href='https://wandb.ai/gurleenvasir0-me/mlx-w2-two-tower-search-finetuned-duh/runs/pxktoxir' target=\"_blank\">https://wandb.ai/gurleenvasir0-me/mlx-w2-two-tower-search-finetuned-duh/runs/pxktoxir</a><br/> View project at: <a href='https://wandb.ai/gurleenvasir0-me/mlx-w2-two-tower-search-finetuned-duh' target=\"_blank\">https://wandb.ai/gurleenvasir0-me/mlx-w2-two-tower-search-finetuned-duh</a><br/>Synced 5 W&B file(s), 0 media file(s), 0 artifact file(s) and 0 other file(s)"
      ],
      "text/plain": [
       "<IPython.core.display.HTML object>"
      ]
     },
     "metadata": {},
     "output_type": "display_data"
    },
    {
     "data": {
      "text/html": [
       "Find logs at: <code>./wandb/run-20241031_140700-pxktoxir/logs</code>"
      ],
      "text/plain": [
       "<IPython.core.display.HTML object>"
      ]
     },
     "metadata": {},
     "output_type": "display_data"
    },
    {
     "data": {
      "application/vnd.jupyter.widget-view+json": {
       "model_id": "72d23f95dc97405e9b8922b8bb3fc824",
       "version_major": 2,
       "version_minor": 0
      },
      "text/plain": [
       "VBox(children=(Label(value='Waiting for wandb.init()...\\r'), FloatProgress(value=0.011112856422227601, max=1.0…"
      ]
     },
     "metadata": {},
     "output_type": "display_data"
    },
    {
     "data": {
      "text/html": [
       "Tracking run with wandb version 0.18.5"
      ],
      "text/plain": [
       "<IPython.core.display.HTML object>"
      ]
     },
     "metadata": {},
     "output_type": "display_data"
    },
    {
     "data": {
      "text/html": [
       "Run data is saved locally in <code>/home/g_byte/MLOPs/backend/fastapi/wandb/run-20241031_140704-wu2w00s4</code>"
      ],
      "text/plain": [
       "<IPython.core.display.HTML object>"
      ]
     },
     "metadata": {},
     "output_type": "display_data"
    },
    {
     "data": {
      "text/html": [
       "Syncing run <strong><a href='https://wandb.ai/gurleenvasir0-me/mlx-w2-two-tower-search-finetuned-duh/runs/wu2w00s4' target=\"_blank\">avg_pooling_learning_rate_1e-06_commit_3799989</a></strong> to <a href='https://wandb.ai/gurleenvasir0-me/mlx-w2-two-tower-search-finetuned-duh' target=\"_blank\">Weights & Biases</a> (<a href='https://wandb.me/run' target=\"_blank\">docs</a>)<br/>"
      ],
      "text/plain": [
       "<IPython.core.display.HTML object>"
      ]
     },
     "metadata": {},
     "output_type": "display_data"
    },
    {
     "data": {
      "text/html": [
       " View project at <a href='https://wandb.ai/gurleenvasir0-me/mlx-w2-two-tower-search-finetuned-duh' target=\"_blank\">https://wandb.ai/gurleenvasir0-me/mlx-w2-two-tower-search-finetuned-duh</a>"
      ],
      "text/plain": [
       "<IPython.core.display.HTML object>"
      ]
     },
     "metadata": {},
     "output_type": "display_data"
    },
    {
     "data": {
      "text/html": [
       " View run at <a href='https://wandb.ai/gurleenvasir0-me/mlx-w2-two-tower-search-finetuned-duh/runs/wu2w00s4' target=\"_blank\">https://wandb.ai/gurleenvasir0-me/mlx-w2-two-tower-search-finetuned-duh/runs/wu2w00s4</a>"
      ],
      "text/plain": [
       "<IPython.core.display.HTML object>"
      ]
     },
     "metadata": {},
     "output_type": "display_data"
    },
    {
     "name": "stdout",
     "output_type": "stream",
     "text": [
      "Learning Rate: 1e-06\n",
      "Epoch 1 of 3\n",
      "E1: Batch 1 of 1\n",
      "Learning Rate: 1e-06\n",
      "Epoch 2 of 3\n",
      "E2: Batch 1 of 1\n",
      "Learning Rate: 1e-06\n",
      "Epoch 3 of 3\n",
      "E3: Batch 1 of 1\n"
     ]
    },
    {
     "data": {
      "text/html": [
       "<style>\n",
       "    table.wandb td:nth-child(1) { padding: 0 10px; text-align: left ; width: auto;} td:nth-child(2) {text-align: left ; width: 100%}\n",
       "    .wandb-row { display: flex; flex-direction: row; flex-wrap: wrap; justify-content: flex-start; width: 100% }\n",
       "    .wandb-col { display: flex; flex-direction: column; flex-basis: 100%; flex: 1; padding: 10px; }\n",
       "    </style>\n",
       "<div class=\"wandb-row\"><div class=\"wandb-col\"><h3>Run history:</h3><br/><table class=\"wandb\"><tr><td>loss</td><td>█▅▁</td></tr></table><br/></div><div class=\"wandb-col\"><h3>Run summary:</h3><br/><table class=\"wandb\"><tr><td>loss</td><td>0.43358</td></tr></table><br/></div></div>"
      ],
      "text/plain": [
       "<IPython.core.display.HTML object>"
      ]
     },
     "metadata": {},
     "output_type": "display_data"
    },
    {
     "data": {
      "text/html": [
       " View run <strong style=\"color:#cdcd00\">avg_pooling_learning_rate_1e-06_commit_3799989</strong> at: <a href='https://wandb.ai/gurleenvasir0-me/mlx-w2-two-tower-search-finetuned-duh/runs/wu2w00s4' target=\"_blank\">https://wandb.ai/gurleenvasir0-me/mlx-w2-two-tower-search-finetuned-duh/runs/wu2w00s4</a><br/> View project at: <a href='https://wandb.ai/gurleenvasir0-me/mlx-w2-two-tower-search-finetuned-duh' target=\"_blank\">https://wandb.ai/gurleenvasir0-me/mlx-w2-two-tower-search-finetuned-duh</a><br/>Synced 5 W&B file(s), 0 media file(s), 0 artifact file(s) and 0 other file(s)"
      ],
      "text/plain": [
       "<IPython.core.display.HTML object>"
      ]
     },
     "metadata": {},
     "output_type": "display_data"
    },
    {
     "data": {
      "text/html": [
       "Find logs at: <code>./wandb/run-20241031_140704-wu2w00s4/logs</code>"
      ],
      "text/plain": [
       "<IPython.core.display.HTML object>"
      ]
     },
     "metadata": {},
     "output_type": "display_data"
    }
   ],
   "source": [
    "for lr in lr_sweep:\n",
    "    run_name = f\"avg_pooling_learning_rate_{lr}_commit_3799989\"\n",
    "    model = TwoTowerModel(embedding_dim=EMBEDDING_DIM, projection_dim=PROJECTION_DIM, embedding_layer=embedding_layer, margin=MARGIN)\n",
    "    optimizer = optim.Adam(model.parameters(), lr=lr)\n",
    "\n",
    "    wandb.init(project=MODEL_NAME, name=run_name)\n",
    "    for epoch in range(NUM_EPOCHS):\n",
    "        print('Learning Rate:', lr)\n",
    "        print(f\"Epoch {epoch + 1} of {NUM_EPOCHS}\")\n",
    "        for batch_idx, batch in enumerate(dataloader):\n",
    "            if batch_idx % 5000 == 0:\n",
    "                print(f\"E{epoch + 1}: Batch {batch_idx + 1} of {len(dataloader)}\")\n",
    "            docs_rel, docs_irr, queries, docs_rel_mask, docs_irr_mask, query_mask = batch\n",
    "\n",
    "            similarity_rel = model(docs_rel, queries, doc_mask=docs_rel_mask, query_mask=query_mask)\n",
    "            similarity_irr = model(docs_irr, queries, doc_mask=docs_irr_mask, query_mask=query_mask)\n",
    "\n",
    "            loss = loss_fn(similarity_rel, similarity_irr, MARGIN)\n",
    "            optimizer.zero_grad()\n",
    "            loss.backward()\n",
    "            optimizer.step()\n",
    "            wandb.log({\"loss\": loss.item()})\n",
    "        save_checkpoint(model, epoch, run_name)\n",
    "\n",
    "    wandb.finish()\n",
    "    # torch.save(model, 'fine_tuned_model.pth')\n",
    "\n"
   ]
  },
  {
   "cell_type": "code",
   "execution_count": 23,
   "metadata": {},
   "outputs": [],
   "source": [
    "model = TwoTowerModel(embedding_dim=EMBEDDING_DIM, projection_dim=PROJECTION_DIM, embedding_layer=embedding_layer, margin=MARGIN)"
   ]
  },
  {
   "cell_type": "code",
   "execution_count": 24,
   "metadata": {},
   "outputs": [],
   "source": [
    "# This needs to be updated\n",
    "# model.load_state_dict(torch.load(f'fine_tuned_model'))"
   ]
  },
  {
   "cell_type": "code",
   "execution_count": 25,
   "metadata": {},
   "outputs": [],
   "source": [
    "def validate(model, dataloader, margin):\n",
    "    model.eval()\n",
    "    total_loss = 0\n",
    "    total_batches = 0\n",
    "    \n",
    "    with torch.no_grad():\n",
    "        for batch in dataloader:\n",
    "            docs_rel, docs_irr, queries, docs_rel_mask, docs_irr_mask, query_mask = batch\n",
    "            \n",
    "            similarity_rel = model(docs_rel, queries, doc_mask=docs_rel_mask, query_mask=query_mask)\n",
    "            similarity_irr = model(docs_irr, queries, doc_mask=docs_irr_mask, query_mask=query_mask)\n",
    "            \n",
    "            loss = loss_fn(similarity_rel, similarity_irr, margin)\n",
    "            total_loss += loss.item()\n",
    "            total_batches += 1\n",
    "    \n",
    "    avg_loss = total_loss / total_batches\n",
    "    return avg_loss"
   ]
  },
  {
   "cell_type": "code",
   "execution_count": 26,
   "metadata": {},
   "outputs": [],
   "source": [
    "df_validation_sample = tokenize(df_validation.sample(n=1000, random_state=RANDOM_SEED), word_to_idx).reset_index(drop=True)\n",
    "\n",
    "# Create validation dataset and dataloader\n",
    "validation_dataset = DocumentDataset(df_validation_sample)\n",
    "validation_dataloader = DataLoader(validation_dataset, batch_size=32, shuffle=False, collate_fn=collate)\n"
   ]
  },
  {
   "cell_type": "code",
   "execution_count": 27,
   "metadata": {},
   "outputs": [],
   "source": [
    "df_validation_sample = tokenize(df_validation.sample(n=1000, random_state=RANDOM_SEED), word_to_idx).reset_index(drop=True)\n",
    "# Create validation dataset and dataloader\n",
    "validation_dataset = DocumentDataset(df_validation_sample)\n",
    "validation_dataloader = DataLoader(validation_dataset, batch_size=32, shuffle=False, collate_fn=collate)\n"
   ]
  },
  {
   "cell_type": "code",
   "execution_count": 28,
   "metadata": {},
   "outputs": [
    {
     "data": {
      "text/plain": [
       "0.5055236024782062"
      ]
     },
     "execution_count": 28,
     "metadata": {},
     "output_type": "execute_result"
    }
   ],
   "source": [
    "validate(model, validation_dataloader, MARGIN)"
   ]
  },
  {
   "cell_type": "code",
   "execution_count": 29,
   "metadata": {},
   "outputs": [
    {
     "name": "stdout",
     "output_type": "stream",
     "text": [
      "torch.Size([39])\n",
      "torch.Size([52])\n",
      "torch.Size([4])\n"
     ]
    }
   ],
   "source": [
    "rel_doc = df_validation_sample.loc[0, 'doc_relevant']\n",
    "irr_doc = df_validation_sample.loc[0, 'doc_irrelevant']\n",
    "query = df_validation_sample.loc[0, 'query']\n",
    "\n",
    "rel_doc_tokens = torch.tensor(df_validation_sample.loc[0, 'doc_rel_tokens'])\n",
    "irr_doc_tokens = torch.tensor(df_validation_sample.loc[0, 'doc_irr_tokens'])\n",
    "query_tokens = torch.tensor(df_validation_sample.loc[0, 'query_tokens'])\n",
    "\n",
    "print(rel_doc_tokens.shape)\n",
    "print(irr_doc_tokens.shape)\n",
    "print(query_tokens.shape)\n"
   ]
  },
  {
   "cell_type": "code",
   "execution_count": 30,
   "metadata": {},
   "outputs": [
    {
     "data": {
      "text/plain": [
       "(tensor([-0.0838]), tensor([0.0621]))"
      ]
     },
     "execution_count": 30,
     "metadata": {},
     "output_type": "execute_result"
    }
   ],
   "source": [
    "model.eval()\n",
    "with torch.no_grad():\n",
    "    similarity_rel = model(rel_doc_tokens.unsqueeze(0), query_tokens.unsqueeze(0))\n",
    "    similarity_irr = model(irr_doc_tokens.unsqueeze(0), query_tokens.unsqueeze(0))\n",
    "\n",
    "similarity_rel, similarity_irr"
   ]
  },
  {
   "cell_type": "code",
   "execution_count": 31,
   "metadata": {},
   "outputs": [],
   "source": [
    "query = \"What are the effects of climate change?\"\n",
    "documents = [\n",
    "    \"Climate change is causing rising sea levels and more frequent extreme weather events.\",\n",
    "    \"The Earth orbits around the Sun in an elliptical path.\",\n",
    "    \"Global warming is leading to the melting of polar ice caps and glaciers.\",\n",
    "    \"Photosynthesis is the process by which plants convert sunlight into energy.\",\n",
    "    \"Increased greenhouse gas emissions are a major contributor to global climate change.\",\n",
    "    \"The recipe for a classic Margherita pizza includes fresh mozzarella, tomatoes, and basil.\",\n",
    "    \"The history of the Roman Empire is marked by significant military conquests and cultural achievements.\",\n",
    "    \"Quantum mechanics explores the behavior of particles at the atomic and subatomic levels.\",\n",
    "    \"The rules of chess involve strategic movement of pieces like the knight, bishop, and rook.\",\n",
    "    \"The process of photosynthesis in plants involves converting carbon dioxide and water into glucose and oxygen using sunlight.\"\n",
    "]\n"
   ]
  },
  {
   "cell_type": "code",
   "execution_count": 32,
   "metadata": {},
   "outputs": [],
   "source": [
    "model.eval()\n",
    "with torch.no_grad():\n",
    "    # Tokenize and prepare the query\n",
    "    query_tokens = torch.tensor([str_to_tokens(query, word_to_idx)])\n",
    "    query_mask = (query_tokens != 0).float()\n",
    "\n",
    "    # Tokenize and prepare the documents\n",
    "    doc_tokens = [torch.tensor([str_to_tokens(doc, word_to_idx)]) for doc in documents]\n",
    "    doc_masks = [(doc != 0).float() for doc in doc_tokens]\n",
    "\n",
    "    # Calculate similarities\n",
    "    similarities = []\n",
    "    for doc, mask in zip(doc_tokens, doc_masks):\n",
    "        similarity = model(doc, query_tokens, doc_mask=mask, query_mask=query_mask)\n",
    "        similarities.append(similarity.item())\n",
    "\n",
    "    # Sort documents by similarity\n",
    "    ranked_docs = sorted(zip(documents, similarities), key=lambda x: x[1], reverse=True)\n",
    "\n"
   ]
  },
  {
   "cell_type": "code",
   "execution_count": 33,
   "metadata": {},
   "outputs": [
    {
     "data": {
      "text/html": [
       "<style type=\"text/css\">\n",
       "#T_1922e .col0 {\n",
       "  width: 150px;\n",
       "}\n",
       "#T_1922e .col1 {\n",
       "  width: 600px;\n",
       "}\n",
       "</style>\n",
       "<table id=\"T_1922e\">\n",
       "  <thead>\n",
       "    <tr>\n",
       "      <th class=\"blank level0\" >&nbsp;</th>\n",
       "      <th id=\"T_1922e_level0_col0\" class=\"col_heading level0 col0\" >Query</th>\n",
       "      <th id=\"T_1922e_level0_col1\" class=\"col_heading level0 col1\" >Document</th>\n",
       "      <th id=\"T_1922e_level0_col2\" class=\"col_heading level0 col2\" >Similarity</th>\n",
       "    </tr>\n",
       "  </thead>\n",
       "  <tbody>\n",
       "    <tr>\n",
       "      <th id=\"T_1922e_level0_row0\" class=\"row_heading level0 row0\" >0</th>\n",
       "      <td id=\"T_1922e_row0_col0\" class=\"data row0 col0\" >What are the effects of climate change?</td>\n",
       "      <td id=\"T_1922e_row0_col1\" class=\"data row0 col1\" >Global warming is leading to the melting of polar ice caps and glaciers.</td>\n",
       "      <td id=\"T_1922e_row0_col2\" class=\"data row0 col2\" >0.089823</td>\n",
       "    </tr>\n",
       "    <tr>\n",
       "      <th id=\"T_1922e_level0_row1\" class=\"row_heading level0 row1\" >1</th>\n",
       "      <td id=\"T_1922e_row1_col0\" class=\"data row1 col0\" >What are the effects of climate change?</td>\n",
       "      <td id=\"T_1922e_row1_col1\" class=\"data row1 col1\" >Climate change is causing rising sea levels and more frequent extreme weather events.</td>\n",
       "      <td id=\"T_1922e_row1_col2\" class=\"data row1 col2\" >0.013515</td>\n",
       "    </tr>\n",
       "    <tr>\n",
       "      <th id=\"T_1922e_level0_row2\" class=\"row_heading level0 row2\" >2</th>\n",
       "      <td id=\"T_1922e_row2_col0\" class=\"data row2 col0\" >What are the effects of climate change?</td>\n",
       "      <td id=\"T_1922e_row2_col1\" class=\"data row2 col1\" >Increased greenhouse gas emissions are a major contributor to global climate change.</td>\n",
       "      <td id=\"T_1922e_row2_col2\" class=\"data row2 col2\" >-0.019892</td>\n",
       "    </tr>\n",
       "    <tr>\n",
       "      <th id=\"T_1922e_level0_row3\" class=\"row_heading level0 row3\" >3</th>\n",
       "      <td id=\"T_1922e_row3_col0\" class=\"data row3 col0\" >What are the effects of climate change?</td>\n",
       "      <td id=\"T_1922e_row3_col1\" class=\"data row3 col1\" >The recipe for a classic Margherita pizza includes fresh mozzarella, tomatoes, and basil.</td>\n",
       "      <td id=\"T_1922e_row3_col2\" class=\"data row3 col2\" >-0.029182</td>\n",
       "    </tr>\n",
       "    <tr>\n",
       "      <th id=\"T_1922e_level0_row4\" class=\"row_heading level0 row4\" >4</th>\n",
       "      <td id=\"T_1922e_row4_col0\" class=\"data row4 col0\" >What are the effects of climate change?</td>\n",
       "      <td id=\"T_1922e_row4_col1\" class=\"data row4 col1\" >The process of photosynthesis in plants involves converting carbon dioxide and water into glucose and oxygen using sunlight.</td>\n",
       "      <td id=\"T_1922e_row4_col2\" class=\"data row4 col2\" >-0.043987</td>\n",
       "    </tr>\n",
       "    <tr>\n",
       "      <th id=\"T_1922e_level0_row5\" class=\"row_heading level0 row5\" >5</th>\n",
       "      <td id=\"T_1922e_row5_col0\" class=\"data row5 col0\" >What are the effects of climate change?</td>\n",
       "      <td id=\"T_1922e_row5_col1\" class=\"data row5 col1\" >Photosynthesis is the process by which plants convert sunlight into energy.</td>\n",
       "      <td id=\"T_1922e_row5_col2\" class=\"data row5 col2\" >-0.078965</td>\n",
       "    </tr>\n",
       "    <tr>\n",
       "      <th id=\"T_1922e_level0_row6\" class=\"row_heading level0 row6\" >6</th>\n",
       "      <td id=\"T_1922e_row6_col0\" class=\"data row6 col0\" >What are the effects of climate change?</td>\n",
       "      <td id=\"T_1922e_row6_col1\" class=\"data row6 col1\" >Quantum mechanics explores the behavior of particles at the atomic and subatomic levels.</td>\n",
       "      <td id=\"T_1922e_row6_col2\" class=\"data row6 col2\" >-0.089775</td>\n",
       "    </tr>\n",
       "    <tr>\n",
       "      <th id=\"T_1922e_level0_row7\" class=\"row_heading level0 row7\" >7</th>\n",
       "      <td id=\"T_1922e_row7_col0\" class=\"data row7 col0\" >What are the effects of climate change?</td>\n",
       "      <td id=\"T_1922e_row7_col1\" class=\"data row7 col1\" >The Earth orbits around the Sun in an elliptical path.</td>\n",
       "      <td id=\"T_1922e_row7_col2\" class=\"data row7 col2\" >-0.128343</td>\n",
       "    </tr>\n",
       "    <tr>\n",
       "      <th id=\"T_1922e_level0_row8\" class=\"row_heading level0 row8\" >8</th>\n",
       "      <td id=\"T_1922e_row8_col0\" class=\"data row8 col0\" >What are the effects of climate change?</td>\n",
       "      <td id=\"T_1922e_row8_col1\" class=\"data row8 col1\" >The rules of chess involve strategic movement of pieces like the knight, bishop, and rook.</td>\n",
       "      <td id=\"T_1922e_row8_col2\" class=\"data row8 col2\" >-0.170925</td>\n",
       "    </tr>\n",
       "    <tr>\n",
       "      <th id=\"T_1922e_level0_row9\" class=\"row_heading level0 row9\" >9</th>\n",
       "      <td id=\"T_1922e_row9_col0\" class=\"data row9 col0\" >What are the effects of climate change?</td>\n",
       "      <td id=\"T_1922e_row9_col1\" class=\"data row9 col1\" >The history of the Roman Empire is marked by significant military conquests and cultural achievements.</td>\n",
       "      <td id=\"T_1922e_row9_col2\" class=\"data row9 col2\" >-0.239401</td>\n",
       "    </tr>\n",
       "  </tbody>\n",
       "</table>\n"
      ],
      "text/plain": [
       "<pandas.io.formats.style.Styler at 0x7f5ce8993400>"
      ]
     },
     "execution_count": 33,
     "metadata": {},
     "output_type": "execute_result"
    }
   ],
   "source": [
    "df_ranked_docs = pd.DataFrame(ranked_docs, columns=['Document', 'Similarity'])\n",
    "df_ranked_docs['Query'] = query\n",
    "df_ranked_docs = df_ranked_docs[['Query', 'Document', 'Similarity']]\n",
    "pd.set_option('display.max_colwidth', None)\n",
    "\n",
    "styled_df = df_ranked_docs.style.set_table_styles(\n",
    "    {\n",
    "        'Query': [{'selector': '', 'props': [('width', '150px')]}],\n",
    "        'Document': [{'selector': '', 'props': [('width', '600px')]}]\n",
    "    }\n",
    ")\n",
    "\n",
    "styled_df\n"
   ]
  },
  {
   "cell_type": "code",
   "execution_count": 34,
   "metadata": {},
   "outputs": [],
   "source": [
    "df = pd.read_parquet('./data/training-with-tokens.parquet')\n"
   ]
  },
  {
   "cell_type": "code",
   "execution_count": null,
   "metadata": {},
   "outputs": [
    {
     "data": {
      "text/html": [
       "<div>\n",
       "<style scoped>\n",
       "    .dataframe tbody tr th:only-of-type {\n",
       "        vertical-align: middle;\n",
       "    }\n",
       "\n",
       "    .dataframe tbody tr th {\n",
       "        vertical-align: top;\n",
       "    }\n",
       "\n",
       "    .dataframe thead th {\n",
       "        text-align: right;\n",
       "    }\n",
       "</style>\n",
       "<table border=\"1\" class=\"dataframe\">\n",
       "  <thead>\n",
       "    <tr style=\"text-align: right;\">\n",
       "      <th></th>\n",
       "      <th>query</th>\n",
       "      <th>doc_relevant</th>\n",
       "      <th>url_relevant</th>\n",
       "      <th>doc_rel_tokens</th>\n",
       "    </tr>\n",
       "  </thead>\n",
       "  <tbody>\n",
       "    <tr>\n",
       "      <th>0</th>\n",
       "      <td>what is rba</td>\n",
       "      <td>Since 2007, the RBA's outstanding reputation has been affected by the 'Securency' or NPA scandal. These RBA subsidiaries were involved in bribing overseas officials so that Australia might win lucrative note-printing contracts. The assets of the bank include the gold and foreign exchange reserves of Australia, which is estimated to have a net worth of A$101 billion. Nearly 94% of the RBA's employees work at its headquarters in Sydney, New South Wales and at the Business Resumption Site.</td>\n",
       "      <td>https://en.wikipedia.org/wiki/Reserve_Bank_of_Australia</td>\n",
       "      <td>[1133, 69, 64417, 4756, 1988, 1082, 600, 3313, 64417, 5589, 373, 10630, 3035, 186, 633, 556, 623, 8483, 1266, 3704, 646, 18, 1146, 463, 1120, 1353, 633, 901, 1311, 2875, 1223, 1003, 64417, 2655, 27, 2373, 3625, 17, 149, 1898, 593, 19213, 324, 1134]</td>\n",
       "    </tr>\n",
       "    <tr>\n",
       "      <th>1</th>\n",
       "      <td>what is rba</td>\n",
       "      <td>The Reserve Bank of Australia (RBA) came into being on 14 January 1960 as Australia 's central bank and banknote issuing authority, when the Reserve Bank Act 1959 removed the central banking functions from the Commonwealth Bank. The assets of the bank include the gold and foreign exchange reserves of Australia, which is estimated to have a net worth of A$101 billion. Nearly 94% of the RBA's employees work at its headquarters in Sydney, New South Wales and at the Business Resumption Site.</td>\n",
       "      <td>https://en.wikipedia.org/wiki/Reserve_Bank_of_Australia</td>\n",
       "      <td>[1133, 1353, 646, 633, 64417, 468, 481, 633, 266, 646, 7616, 332, 171, 1353, 646, 220, 731, 266, 646, 194, 1953, 646, 3704, 646, 18, 1146, 463, 1120, 1353, 633, 901, 1311, 2875, 1223, 1003, 64417, 2655, 27, 2373, 3625, 17, 149, 1898, 593, 19213, 324, 1134]</td>\n",
       "    </tr>\n",
       "  </tbody>\n",
       "</table>\n",
       "</div>"
      ],
      "text/plain": [
       "         query  \\\n",
       "0  what is rba   \n",
       "1  what is rba   \n",
       "\n",
       "                                                                                                                                                                                                                                                                                                                                                                                                                                                                                                   doc_relevant  \\\n",
       "0   Since 2007, the RBA's outstanding reputation has been affected by the 'Securency' or NPA scandal. These RBA subsidiaries were involved in bribing overseas officials so that Australia might win lucrative note-printing contracts. The assets of the bank include the gold and foreign exchange reserves of Australia, which is estimated to have a net worth of A$101 billion. Nearly 94% of the RBA's employees work at its headquarters in Sydney, New South Wales and at the Business Resumption Site.   \n",
       "1  The Reserve Bank of Australia (RBA) came into being on 14 January 1960 as Australia 's central bank and banknote issuing authority, when the Reserve Bank Act 1959 removed the central banking functions from the Commonwealth Bank. The assets of the bank include the gold and foreign exchange reserves of Australia, which is estimated to have a net worth of A$101 billion. Nearly 94% of the RBA's employees work at its headquarters in Sydney, New South Wales and at the Business Resumption Site.   \n",
       "\n",
       "                                              url_relevant  \\\n",
       "0  https://en.wikipedia.org/wiki/Reserve_Bank_of_Australia   \n",
       "1  https://en.wikipedia.org/wiki/Reserve_Bank_of_Australia   \n",
       "\n",
       "                                                                                                                                                                                                                                                     doc_rel_tokens  \n",
       "0          [1133, 69, 64417, 4756, 1988, 1082, 600, 3313, 64417, 5589, 373, 10630, 3035, 186, 633, 556, 623, 8483, 1266, 3704, 646, 18, 1146, 463, 1120, 1353, 633, 901, 1311, 2875, 1223, 1003, 64417, 2655, 27, 2373, 3625, 17, 149, 1898, 593, 19213, 324, 1134]  \n",
       "1  [1133, 1353, 646, 633, 64417, 468, 481, 633, 266, 646, 7616, 332, 171, 1353, 646, 220, 731, 266, 646, 194, 1953, 646, 3704, 646, 18, 1146, 463, 1120, 1353, 633, 901, 1311, 2875, 1223, 1003, 64417, 2655, 27, 2373, 3625, 17, 149, 1898, 593, 19213, 324, 1134]  "
      ]
     },
     "execution_count": 43,
     "metadata": {},
     "output_type": "execute_result"
    }
   ],
   "source": [
    "df = df[['query', 'doc_relevant', 'url_relevant']]\n"
   ]
  },
  {
   "cell_type": "code",
   "execution_count": null,
   "metadata": {},
   "outputs": [
    {
     "ename": "KeyError",
     "evalue": "'doc_irrelevant'",
     "output_type": "error",
     "traceback": [
      "\u001b[0;31m---------------------------------------------------------------------------\u001b[0m",
      "\u001b[0;31mKeyError\u001b[0m                                  Traceback (most recent call last)",
      "File \u001b[0;32m~/MLOPs/env/lib/python3.10/site-packages/pandas/core/indexes/base.py:3805\u001b[0m, in \u001b[0;36mIndex.get_loc\u001b[0;34m(self, key)\u001b[0m\n\u001b[1;32m   3804\u001b[0m \u001b[38;5;28;01mtry\u001b[39;00m:\n\u001b[0;32m-> 3805\u001b[0m     \u001b[38;5;28;01mreturn\u001b[39;00m \u001b[38;5;28;43mself\u001b[39;49m\u001b[38;5;241;43m.\u001b[39;49m\u001b[43m_engine\u001b[49m\u001b[38;5;241;43m.\u001b[39;49m\u001b[43mget_loc\u001b[49m\u001b[43m(\u001b[49m\u001b[43mcasted_key\u001b[49m\u001b[43m)\u001b[49m\n\u001b[1;32m   3806\u001b[0m \u001b[38;5;28;01mexcept\u001b[39;00m \u001b[38;5;167;01mKeyError\u001b[39;00m \u001b[38;5;28;01mas\u001b[39;00m err:\n",
      "File \u001b[0;32mindex.pyx:167\u001b[0m, in \u001b[0;36mpandas._libs.index.IndexEngine.get_loc\u001b[0;34m()\u001b[0m\n",
      "File \u001b[0;32mindex.pyx:196\u001b[0m, in \u001b[0;36mpandas._libs.index.IndexEngine.get_loc\u001b[0;34m()\u001b[0m\n",
      "File \u001b[0;32mpandas/_libs/hashtable_class_helper.pxi:7081\u001b[0m, in \u001b[0;36mpandas._libs.hashtable.PyObjectHashTable.get_item\u001b[0;34m()\u001b[0m\n",
      "File \u001b[0;32mpandas/_libs/hashtable_class_helper.pxi:7089\u001b[0m, in \u001b[0;36mpandas._libs.hashtable.PyObjectHashTable.get_item\u001b[0;34m()\u001b[0m\n",
      "\u001b[0;31mKeyError\u001b[0m: 'doc_irrelevant'",
      "\nThe above exception was the direct cause of the following exception:\n",
      "\u001b[0;31mKeyError\u001b[0m                                  Traceback (most recent call last)",
      "Cell \u001b[0;32mIn[40], line 1\u001b[0m\n\u001b[0;32m----> 1\u001b[0m df \u001b[38;5;241m=\u001b[39m \u001b[43mtokenize\u001b[49m\u001b[43m(\u001b[49m\u001b[43mdf\u001b[49m\u001b[43m,\u001b[49m\u001b[43m \u001b[49m\u001b[43mword_to_idx\u001b[49m\u001b[43m)\u001b[49m\n\u001b[1;32m      2\u001b[0m doc_dataset \u001b[38;5;241m=\u001b[39m models\u001b[38;5;241m.\u001b[39mcore\u001b[38;5;241m.\u001b[39mDocumentDataset(df)\n\u001b[1;32m      3\u001b[0m doc_dataloader \u001b[38;5;241m=\u001b[39m DataLoader(doc_dataset, batch_size\u001b[38;5;241m=\u001b[39m\u001b[38;5;241m32\u001b[39m, shuffle\u001b[38;5;241m=\u001b[39m\u001b[38;5;28;01mFalse\u001b[39;00m, collate_fn\u001b[38;5;241m=\u001b[39mcollate_docdataset)\n",
      "Cell \u001b[0;32mIn[12], line 4\u001b[0m, in \u001b[0;36mtokenize\u001b[0;34m(df, word_to_idx)\u001b[0m\n\u001b[1;32m      1\u001b[0m \u001b[38;5;28;01mdef\u001b[39;00m \u001b[38;5;21mtokenize\u001b[39m(df, word_to_idx):\n\u001b[1;32m      2\u001b[0m     \u001b[38;5;66;03m# Tokenize\u001b[39;00m\n\u001b[1;32m      3\u001b[0m     df\u001b[38;5;241m.\u001b[39mloc[:, \u001b[38;5;124m'\u001b[39m\u001b[38;5;124mdoc_rel_tokens\u001b[39m\u001b[38;5;124m'\u001b[39m] \u001b[38;5;241m=\u001b[39m df[\u001b[38;5;124m'\u001b[39m\u001b[38;5;124mdoc_relevant\u001b[39m\u001b[38;5;124m'\u001b[39m]\u001b[38;5;241m.\u001b[39mapply(\u001b[38;5;28;01mlambda\u001b[39;00m x: str_to_tokens(x, word_to_idx))\n\u001b[0;32m----> 4\u001b[0m     df\u001b[38;5;241m.\u001b[39mloc[:, \u001b[38;5;124m'\u001b[39m\u001b[38;5;124mdoc_irr_tokens\u001b[39m\u001b[38;5;124m'\u001b[39m] \u001b[38;5;241m=\u001b[39m \u001b[43mdf\u001b[49m\u001b[43m[\u001b[49m\u001b[38;5;124;43m'\u001b[39;49m\u001b[38;5;124;43mdoc_irrelevant\u001b[39;49m\u001b[38;5;124;43m'\u001b[39;49m\u001b[43m]\u001b[49m\u001b[38;5;241m.\u001b[39mapply(\u001b[38;5;28;01mlambda\u001b[39;00m x: str_to_tokens(x, word_to_idx))\n\u001b[1;32m      5\u001b[0m     df\u001b[38;5;241m.\u001b[39mloc[:, \u001b[38;5;124m'\u001b[39m\u001b[38;5;124mquery_tokens\u001b[39m\u001b[38;5;124m'\u001b[39m] \u001b[38;5;241m=\u001b[39m df[\u001b[38;5;124m'\u001b[39m\u001b[38;5;124mquery\u001b[39m\u001b[38;5;124m'\u001b[39m]\u001b[38;5;241m.\u001b[39mapply(\u001b[38;5;28;01mlambda\u001b[39;00m x: str_to_tokens(x, word_to_idx))\n\u001b[1;32m      6\u001b[0m     \u001b[38;5;28;01mreturn\u001b[39;00m df\n",
      "File \u001b[0;32m~/MLOPs/env/lib/python3.10/site-packages/pandas/core/frame.py:4102\u001b[0m, in \u001b[0;36mDataFrame.__getitem__\u001b[0;34m(self, key)\u001b[0m\n\u001b[1;32m   4100\u001b[0m \u001b[38;5;28;01mif\u001b[39;00m \u001b[38;5;28mself\u001b[39m\u001b[38;5;241m.\u001b[39mcolumns\u001b[38;5;241m.\u001b[39mnlevels \u001b[38;5;241m>\u001b[39m \u001b[38;5;241m1\u001b[39m:\n\u001b[1;32m   4101\u001b[0m     \u001b[38;5;28;01mreturn\u001b[39;00m \u001b[38;5;28mself\u001b[39m\u001b[38;5;241m.\u001b[39m_getitem_multilevel(key)\n\u001b[0;32m-> 4102\u001b[0m indexer \u001b[38;5;241m=\u001b[39m \u001b[38;5;28;43mself\u001b[39;49m\u001b[38;5;241;43m.\u001b[39;49m\u001b[43mcolumns\u001b[49m\u001b[38;5;241;43m.\u001b[39;49m\u001b[43mget_loc\u001b[49m\u001b[43m(\u001b[49m\u001b[43mkey\u001b[49m\u001b[43m)\u001b[49m\n\u001b[1;32m   4103\u001b[0m \u001b[38;5;28;01mif\u001b[39;00m is_integer(indexer):\n\u001b[1;32m   4104\u001b[0m     indexer \u001b[38;5;241m=\u001b[39m [indexer]\n",
      "File \u001b[0;32m~/MLOPs/env/lib/python3.10/site-packages/pandas/core/indexes/base.py:3812\u001b[0m, in \u001b[0;36mIndex.get_loc\u001b[0;34m(self, key)\u001b[0m\n\u001b[1;32m   3807\u001b[0m     \u001b[38;5;28;01mif\u001b[39;00m \u001b[38;5;28misinstance\u001b[39m(casted_key, \u001b[38;5;28mslice\u001b[39m) \u001b[38;5;129;01mor\u001b[39;00m (\n\u001b[1;32m   3808\u001b[0m         \u001b[38;5;28misinstance\u001b[39m(casted_key, abc\u001b[38;5;241m.\u001b[39mIterable)\n\u001b[1;32m   3809\u001b[0m         \u001b[38;5;129;01mand\u001b[39;00m \u001b[38;5;28many\u001b[39m(\u001b[38;5;28misinstance\u001b[39m(x, \u001b[38;5;28mslice\u001b[39m) \u001b[38;5;28;01mfor\u001b[39;00m x \u001b[38;5;129;01min\u001b[39;00m casted_key)\n\u001b[1;32m   3810\u001b[0m     ):\n\u001b[1;32m   3811\u001b[0m         \u001b[38;5;28;01mraise\u001b[39;00m InvalidIndexError(key)\n\u001b[0;32m-> 3812\u001b[0m     \u001b[38;5;28;01mraise\u001b[39;00m \u001b[38;5;167;01mKeyError\u001b[39;00m(key) \u001b[38;5;28;01mfrom\u001b[39;00m \u001b[38;5;21;01merr\u001b[39;00m\n\u001b[1;32m   3813\u001b[0m \u001b[38;5;28;01mexcept\u001b[39;00m \u001b[38;5;167;01mTypeError\u001b[39;00m:\n\u001b[1;32m   3814\u001b[0m     \u001b[38;5;66;03m# If we have a listlike key, _check_indexing_error will raise\u001b[39;00m\n\u001b[1;32m   3815\u001b[0m     \u001b[38;5;66;03m#  InvalidIndexError. Otherwise we fall through and re-raise\u001b[39;00m\n\u001b[1;32m   3816\u001b[0m     \u001b[38;5;66;03m#  the TypeError.\u001b[39;00m\n\u001b[1;32m   3817\u001b[0m     \u001b[38;5;28mself\u001b[39m\u001b[38;5;241m.\u001b[39m_check_indexing_error(key)\n",
      "\u001b[0;31mKeyError\u001b[0m: 'doc_irrelevant'"
     ]
    }
   ],
   "source": [
    "doc_dataset = models.core.DocDataset(df, word_to_idx)\n",
    "doc_dataset = models.core.DocumentDataset(df)\n",
    "doc_dataloader = DataLoader(doc_dataset, batch_size=32, shuffle=False, collate_fn=collate_docdataset)\n",
    "    # Shuffle MUST be set to false to preserve the order of the documents\n",
    "for tokens, mask, indices in doc_dataloader:\n",
    "    print(tokens.shape)\n",
    "    print(mask.shape)\n",
    "    print(indices.shape)\n",
    "    break\n"
   ]
  },
  {
   "cell_type": "code",
   "execution_count": null,
   "metadata": {},
   "outputs": [],
   "source": [
    "model.eval()\n",
    "\n",
    "doc_projections = []\n",
    "\n",
    "with torch.no_grad():\n",
    "    for batch_tokens, batch_mask, batch_indices in tqdm(doc_dataloader):\n",
    "\n",
    "        doc_encodings = model.doc_encode(batch_tokens, batch_mask)\n",
    "        batch_projections = model.doc_project(doc_encodings)\n",
    "\n",
    "        doc_projections.append(batch_projections)\n",
    "        doc_indices.append(batch_indices)\n"
   ]
  },
  {
   "cell_type": "code",
   "execution_count": null,
   "metadata": {},
   "outputs": [],
   "source": [
    "doc_projections = torch.cat(doc_projections, dim=0)\n"
   ]
  },
  {
   "cell_type": "code",
   "execution_count": null,
   "metadata": {},
   "outputs": [],
   "source": [
    "\n",
    "doc_projection_dim = doc_projections.shape[1] # same as PROJECTION_DIM\n",
    "num_docs = doc_projections.shape[0] # same as len(df), len(doc_indices)\n",
    "doc_embedding_matrix = nn.Embedding.from_pretrained(doc_projections, freeze=True)\n"
   ]
  },
  {
   "cell_type": "code",
   "execution_count": null,
   "metadata": {},
   "outputs": [],
   "source": [
    "torch.save(doc_embedding_matrix.weight.data, '../data/doc-embedding-matrix-64.pth')"
   ]
  }
 ],
 "metadata": {
  "kernelspec": {
   "display_name": "usr",
   "language": "python",
   "name": "python3"
  },
  "language_info": {
   "codemirror_mode": {
    "name": "ipython",
    "version": 3
   },
   "file_extension": ".py",
   "mimetype": "text/x-python",
   "name": "python",
   "nbconvert_exporter": "python",
   "pygments_lexer": "ipython3",
   "version": "3.10.12"
  }
 },
 "nbformat": 4,
 "nbformat_minor": 2
}
